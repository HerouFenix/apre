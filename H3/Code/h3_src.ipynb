{
 "cells": [
  {
   "cell_type": "markdown",
   "metadata": {},
   "source": [
    "## Imports"
   ]
  },
  {
   "cell_type": "code",
   "execution_count": 1,
   "metadata": {},
   "outputs": [],
   "source": [
    "from sklearn import datasets\n",
    "from sklearn.model_selection import train_test_split\n",
    "import numpy as np\n",
    "from sklearn.linear_model import LogisticRegression\n",
    "from sklearn.metrics import accuracy_score\n",
    "import matplotlib.pyplot as plt"
   ]
  },
  {
   "cell_type": "markdown",
   "metadata": {},
   "source": [
    "## Load & Split Dataset"
   ]
  },
  {
   "cell_type": "code",
   "execution_count": 2,
   "metadata": {},
   "outputs": [
    {
     "name": "stdout",
     "output_type": "stream",
     "text": [
      "Iris Data\n",
      " ['data', 'target', 'frame', 'target_names', 'DESCR', 'feature_names', 'filename']\n",
      "[0 0 0 0 0 0 0 0 0 0 0 0 0 0 0 0 0 0 0 0 0 0 0 0 0 0 0 0 0 0 0 0 0 0 0 0 0\n",
      " 0 0 0 0 0 0 0 0 0 0 0 0 0 0 0 0 0 0 0 0 0 0 0 0 0 0 0 0 0 0 0 0 0 0 0 0 0\n",
      " 0 0 0 0 0 0 0 0 0 0 0 0 0 0 0 0 0 0 0 0 0 0 0 0 0 0 1 1 1 1 1 1 1 1 1 1 1\n",
      " 1 1 1 1 1 1 1 1 1 1 1 1 1 1 1 1 1 1 1 1 1 1 1 1 1 1 1 1 1 1 1 1 1 1 1 1 1\n",
      " 1 1]\n"
     ]
    }
   ],
   "source": [
    "iris = datasets.load_iris()\n",
    "print(\"Iris Data\\n\",list(iris.keys()))\n",
    "X = iris.data[:, :2] # we only take the first two features.\n",
    "y = (iris[\"target\"] == 2).astype(np.int) # 1 if Iris-Virginica, else 0\n",
    "print(y)\n",
    "# Split into a train and test partition.\n",
    "X_train, X_test, y_train, y_test = train_test_split(X, y, test_size=0.2,\n",
    "random_state=0)"
   ]
  },
  {
   "cell_type": "markdown",
   "metadata": {},
   "source": [
    "<br>\n",
    "<br>"
   ]
  },
  {
   "cell_type": "markdown",
   "metadata": {},
   "source": [
    "## Exercise 1. - Logistic Regression with Sci-kit Learn"
   ]
  },
  {
   "cell_type": "code",
   "execution_count": 3,
   "metadata": {},
   "outputs": [
    {
     "name": "stdout",
     "output_type": "stream",
     "text": [
      "Predict (train): [1 0 0 0 1 0 0 0 0 0 1 0 1 0 0 0 1 1 0 1 0 1 0 0 1 1 0 1 1 1 0 0 0 0 0 0 0\n",
      " 1 0 0 1 0 0 0 1 0 0 0 0 1 1 0 0 1 1 1 1 0 0 1 1 0 0 0 0 1 0 0 1 0 0 0 0 1\n",
      " 1 0 0 0 0 1 0 0 1 0 1 0 1 1 0 0 0 1 0 0 1 0 0 0 0 0 1 1 1 1 0 0 1 0 0 1 0\n",
      " 0 1 0 0 0 1 0 1 0]\n",
      "Predict (test): [0 0 0 1 0 0 0 1 1 0 0 1 0 1 0 0 0 0 0 0 0 0 0 0 0 0 0 0 0 0]\n"
     ]
    }
   ],
   "source": [
    "log_reg = LogisticRegression()\n",
    "log_reg.fit(X_train, y_train)\n",
    "\n",
    "train_predict = log_reg.predict(X_train[:len(y_train), :])\n",
    "test_predict = log_reg.predict(X_test[:len(y_test), :])\n",
    "print(\"Predict (train):\", train_predict)\n",
    "print(\"Predict (test):\", test_predict)"
   ]
  },
  {
   "cell_type": "markdown",
   "metadata": {},
   "source": [
    "### Accuracy using SKLearn"
   ]
  },
  {
   "cell_type": "code",
   "execution_count": 4,
   "metadata": {},
   "outputs": [
    {
     "name": "stdout",
     "output_type": "stream",
     "text": [
      "Actual (train): [1 0 0 1 1 0 0 0 0 0 1 0 1 0 0 0 1 1 1 1 0 1 0 0 1 1 1 1 0 1 0 0 1 0 0 0 0\n",
      " 1 0 0 1 0 0 0 0 0 1 0 0 0 1 0 0 1 1 1 1 0 0 1 1 0 1 0 1 1 0 0 1 0 0 0 0 1\n",
      " 1 0 0 0 0 0 0 0 0 0 1 0 1 0 0 1 0 1 0 0 1 0 1 0 0 0 1 1 0 0 0 0 1 1 0 0 0\n",
      " 0 0 0 0 0 1 0 1 0]\n",
      "Actual (test): [1 0 0 1 0 1 0 0 0 0 1 0 0 0 0 0 0 0 0 0 1 0 0 0 1 0 0 0 0 0]\n",
      "Train Accuracy: 0.8333333333333334\n",
      "Test Accuracy: 0.7\n"
     ]
    }
   ],
   "source": [
    "print(\"Actual (train):\",y_train)\n",
    "print(\"Actual (test):\",y_test)\n",
    "\n",
    "# Using SKLearn\n",
    "print(\"Train Accuracy:\",accuracy_score(y_train, train_predict))\n",
    "print(\"Test Accuracy:\",accuracy_score(y_test, test_predict))"
   ]
  },
  {
   "cell_type": "markdown",
   "metadata": {},
   "source": [
    "### Accuracy without using SKLearn"
   ]
  },
  {
   "cell_type": "code",
   "execution_count": 5,
   "metadata": {},
   "outputs": [],
   "source": [
    "def accuracy(real, prediction):\n",
    "    #Accuracy = (TP+TN) / (TP+TN+FP+FN) ; Alternatively: #Equal values / #Size of arrays\n",
    "    return np.sum(real == prediction) / len(real)"
   ]
  },
  {
   "cell_type": "code",
   "execution_count": 6,
   "metadata": {},
   "outputs": [
    {
     "name": "stdout",
     "output_type": "stream",
     "text": [
      "Actual (train): [1 0 0 1 1 0 0 0 0 0 1 0 1 0 0 0 1 1 1 1 0 1 0 0 1 1 1 1 0 1 0 0 1 0 0 0 0\n",
      " 1 0 0 1 0 0 0 0 0 1 0 0 0 1 0 0 1 1 1 1 0 0 1 1 0 1 0 1 1 0 0 1 0 0 0 0 1\n",
      " 1 0 0 0 0 0 0 0 0 0 1 0 1 0 0 1 0 1 0 0 1 0 1 0 0 0 1 1 0 0 0 0 1 1 0 0 0\n",
      " 0 0 0 0 0 1 0 1 0]\n",
      "Actual (test): [1 0 0 1 0 1 0 0 0 0 1 0 0 0 0 0 0 0 0 0 1 0 0 0 1 0 0 0 0 0]\n",
      "Train Accuracy: 0.8333333333333334\n",
      "Test Accuracy: 0.7\n"
     ]
    }
   ],
   "source": [
    "print(\"Actual (train):\",y_train)\n",
    "print(\"Actual (test):\",y_test)\n",
    "\n",
    "# Without using SKLearn\n",
    "print(\"Train Accuracy:\", accuracy(y_train, train_predict))\n",
    "print(\"Test Accuracy:\", accuracy(y_test, test_predict))"
   ]
  },
  {
   "cell_type": "markdown",
   "metadata": {},
   "source": [
    "<br>\n",
    "<br>"
   ]
  },
  {
   "cell_type": "markdown",
   "metadata": {},
   "source": [
    "## Exercise 2. - Perceptron with Numpy"
   ]
  },
  {
   "cell_type": "markdown",
   "metadata": {},
   "source": [
    "### a) Implementing the update rules for Squared Errors and Cross-Entropy with Linear and Sigmoid activation functions"
   ]
  },
  {
   "cell_type": "code",
   "execution_count": 7,
   "metadata": {},
   "outputs": [],
   "source": [
    "# Activation Functions\n",
    "def linear_activation(x, w):\n",
    "    predict = w.T @ x\n",
    "    return predict\n",
    "    #return 1.0 if predict >= 0.0 else 0.0\n",
    "\n",
    "def sigmoid_activation(x, w):\n",
    "    z = linear_activation(x,w)\n",
    "    return sigmoid(z)\n",
    "    #return 1.0 if predict >= 0.0 else 0.0\n",
    "    \n",
    "def sigmoid(z):\n",
    "    predict = np.exp(z) / (1 + np.exp(z))\n",
    "    return predict\n",
    "\n",
    "#i\n",
    "def lr_se_linear(x, y, w, niu, max_epochs = 1000):\n",
    "    num_epochs = 0\n",
    "    errors = []\n",
    "\n",
    "    while(True):\n",
    "        if(num_epochs >= max_epochs): break\n",
    "            \n",
    "        num_epochs += 1\n",
    "        changed = False\n",
    "        err_cum = 0\n",
    "        \n",
    "        for i in range(len(x)):\n",
    "            dp = np.insert(x[i], 0, 1, axis=0) # Data Point (add bias)\n",
    "            \n",
    "            # 1. Compute output - activation function\n",
    "            o = linear_activation(dp, w)\n",
    "\n",
    "            # 2. Compute error: niu (y - o) * x\n",
    "            delta = (y[i] - o)\n",
    "            err_cum += abs(delta)\n",
    "            \n",
    "            if(abs(delta) < 1e-5): continue\n",
    "\n",
    "            # 3. Update weights\n",
    "            w = w + np.reshape((niu * delta * dp), w.shape)\n",
    "            \n",
    "            #print(\"   w: \",w)\n",
    "            \n",
    "            changed = True\n",
    "            \n",
    "        errors.append(err_cum)\n",
    "        \n",
    "        if(not changed): break\n",
    "            \n",
    "    return (w, num_epochs, errors)\n",
    "\n",
    "#ii\n",
    "def lr_se_sigmoid(x, y, w, niu, max_epochs = 1000):\n",
    "    num_epochs = 0\n",
    "    errors = []\n",
    "\n",
    "    while(True):\n",
    "        if(num_epochs >= max_epochs): break\n",
    "            \n",
    "        num_epochs += 1\n",
    "        changed = False\n",
    "        err_cum = 0\n",
    "        \n",
    "        for i in range(len(x)):\n",
    "            dp = np.insert(x[i], 0, 1, axis=0) # Data Point (add bias)\n",
    "            \n",
    "            # 1. Compute output - activation function\n",
    "            o = sigmoid_activation(dp, w)\n",
    "            \n",
    "            # 2. Compute error (LEC6 - Slides 34)\n",
    "            net = linear_activation(dp, w)\n",
    "            delta = (y[i] - o) * sigmoid(net) * (1 - sigmoid(net))\n",
    "            err_cum += abs(delta)\n",
    "            \n",
    "            if(abs(delta) < 1e-5): continue\n",
    "\n",
    "            # 3. Update weights\n",
    "            w = w + np.reshape((niu * delta * dp), w.shape)\n",
    "                        \n",
    "            changed = True\n",
    "            \n",
    "        errors.append(err_cum)\n",
    "        \n",
    "        if(not changed): break\n",
    "            \n",
    "    return (w, num_epochs, errors)\n",
    "\n",
    "#iii\n",
    "def lr_ce_sigmoid(x, y, w, niu, max_epochs = 1000):\n",
    "    num_epochs = 0\n",
    "    errors = []\n",
    "\n",
    "    while(True):\n",
    "        if(num_epochs >= max_epochs): break\n",
    "            \n",
    "        num_epochs += 1\n",
    "        changed = False\n",
    "        err_cum = 0\n",
    "        \n",
    "        for i in range(len(x)):\n",
    "            dp = np.insert(x[i], 0, 1, axis=0) # Data Point (add bias)\n",
    "            \n",
    "            # 1. Compute output - activation function\n",
    "            o = sigmoid_activation(dp, w)\n",
    "\n",
    "            # 2. Compute error: niu (y - o) * x\n",
    "            delta = (y[i] - o)\n",
    "            err_cum += abs(delta)\n",
    "            \n",
    "            if(abs(delta) < 1e-5): continue\n",
    "\n",
    "            # 3. Update weights\n",
    "            w = w + np.reshape((niu * delta * dp), w.shape)\n",
    "            \n",
    "            #print(\"   w: \",w)\n",
    "            \n",
    "            changed = True\n",
    "            \n",
    "        errors.append(err_cum)\n",
    "        \n",
    "        if(not changed): break\n",
    "            \n",
    "    return (w, num_epochs, errors)"
   ]
  },
  {
   "cell_type": "code",
   "execution_count": 8,
   "metadata": {},
   "outputs": [
    {
     "name": "stdout",
     "output_type": "stream",
     "text": [
      "[[-1.78470115]\n",
      " [ 0.38405476]\n",
      " [-0.02796238]]\n",
      "1000\n",
      "[[-2.44991643]\n",
      " [ 1.27519924]\n",
      " [-1.89619217]]\n",
      "1000\n",
      "[[-11.1298523 ]\n",
      " [  2.33909157]\n",
      " [ -1.36376061]]\n",
      "1000\n"
     ]
    },
    {
     "data": {
      "text/plain": [
       "[<matplotlib.lines.Line2D at 0x2a825270e20>]"
      ]
     },
     "execution_count": 8,
     "metadata": {},
     "output_type": "execute_result"
    },
    {
     "data": {
      "image/png": "[encoded data removed]",
      "text/plain": [
       "<Figure size 432x288 with 1 Axes>"
      ]
     },
     "metadata": {
      "needs_background": "light"
     },
     "output_type": "display_data"
    }
   ],
   "source": [
    "## i.\n",
    "result = lr_se_linear(X_train, y_train, np.array([[1, 1, 1]]).T, 0.01)\n",
    "\n",
    "print(result[0])\n",
    "print(result[1])\n",
    "\n",
    "plt.plot(result[2])\n",
    "\n",
    "\n",
    "## ii.\n",
    "result = lr_se_sigmoid(X_train, y_train, np.array([[1, 1, 1]]).T, 0.01)\n",
    "\n",
    "print(result[0])\n",
    "print(result[1])\n",
    "\n",
    "plt.plot(result[2])\n",
    "\n",
    "\n",
    "## iii.\n",
    "result = lr_ce_sigmoid(X_train, y_train, np.array([[1, 1, 1]]).T, 0.01)\n",
    "\n",
    "print(result[0])\n",
    "print(result[1])\n",
    "\n",
    "plt.plot(result[2])"
   ]
  },
  {
   "cell_type": "markdown",
   "metadata": {},
   "source": [
    "### b) Random weight initializations experiments"
   ]
  },
  {
   "cell_type": "code",
   "execution_count": 21,
   "metadata": {},
   "outputs": [
    {
     "name": "stdout",
     "output_type": "stream",
     "text": [
      "Squared Error + Linear Activation\n",
      "Experiment  0\n",
      "[[-1.78470184]\n",
      " [ 0.38405481]\n",
      " [-0.02796226]]\n",
      "1000\n",
      "\n"
     ]
    },
    {
     "name": "stderr",
     "output_type": "stream",
     "text": [
      "<ipython-input-21-9ce16ea49ef3>:20: MatplotlibDeprecationWarning: Adding an axes using the same arguments as a previous axes currently reuses the earlier instance.  In a future version, a new instance will always be created and returned.  Meanwhile, this warning can be suppressed, and the future behavior ensured, by passing a unique label to each axes instance.\n",
      "  plt.subplot(1, 2, 1)\n"
     ]
    },
    {
     "name": "stdout",
     "output_type": "stream",
     "text": [
      "Experiment  1\n",
      "[[-1.78470334]\n",
      " [ 0.3840549 ]\n",
      " [-0.02796199]]\n",
      "1000\n",
      "\n"
     ]
    },
    {
     "name": "stderr",
     "output_type": "stream",
     "text": [
      "<ipython-input-21-9ce16ea49ef3>:20: MatplotlibDeprecationWarning: Adding an axes using the same arguments as a previous axes currently reuses the earlier instance.  In a future version, a new instance will always be created and returned.  Meanwhile, this warning can be suppressed, and the future behavior ensured, by passing a unique label to each axes instance.\n",
      "  plt.subplot(1, 2, 1)\n",
      "<ipython-input-21-9ce16ea49ef3>:26: MatplotlibDeprecationWarning: Adding an axes using the same arguments as a previous axes currently reuses the earlier instance.  In a future version, a new instance will always be created and returned.  Meanwhile, this warning can be suppressed, and the future behavior ensured, by passing a unique label to each axes instance.\n",
      "  plt.subplot(1, 2, 2)\n"
     ]
    },
    {
     "name": "stdout",
     "output_type": "stream",
     "text": [
      "Experiment  2\n",
      "[[-1.78470034]\n",
      " [ 0.38405471]\n",
      " [-0.02796253]]\n",
      "1000\n",
      "\n"
     ]
    },
    {
     "name": "stderr",
     "output_type": "stream",
     "text": [
      "<ipython-input-21-9ce16ea49ef3>:20: MatplotlibDeprecationWarning: Adding an axes using the same arguments as a previous axes currently reuses the earlier instance.  In a future version, a new instance will always be created and returned.  Meanwhile, this warning can be suppressed, and the future behavior ensured, by passing a unique label to each axes instance.\n",
      "  plt.subplot(1, 2, 1)\n",
      "<ipython-input-21-9ce16ea49ef3>:26: MatplotlibDeprecationWarning: Adding an axes using the same arguments as a previous axes currently reuses the earlier instance.  In a future version, a new instance will always be created and returned.  Meanwhile, this warning can be suppressed, and the future behavior ensured, by passing a unique label to each axes instance.\n",
      "  plt.subplot(1, 2, 2)\n"
     ]
    },
    {
     "data": {
      "image/png": "[encoded data removed]",
      "text/plain": [
       "<Figure size 1080x360 with 2 Axes>"
      ]
     },
     "metadata": {
      "needs_background": "light"
     },
     "output_type": "display_data"
    }
   ],
   "source": [
    "lr = 0.01\n",
    "\n",
    "plt.subplots(figsize=(15, 5))\n",
    "plt.subplot(1, 2, 1)\n",
    "plt.scatter(X_test[:,0], X_test[:,1], c=y_test)\n",
    "\n",
    "\n",
    "## i.\n",
    "print(\"Squared Error + Linear Activation\")\n",
    "for i in range(3):\n",
    "    weights = np.random.rand(3,1)\n",
    "    #print(weights)\n",
    "    \n",
    "    result = lr_se_linear(X_train, y_train, weights, lr, 1000)\n",
    "    print(\"Experiment \", i)\n",
    "    print(result[0])\n",
    "    print(result[1])\n",
    "    \n",
    "    print(\"\")\n",
    "    plt.subplot(1, 2, 1)\n",
    "    domain = np.linspace(3,8,100)\n",
    "    line = -(result[0][0] * 1 + result[0][1] * domain) / result[0][2]\n",
    "\n",
    "    plt.plot(domain,line)\n",
    "\n",
    "    plt.subplot(1, 2, 2)\n",
    "    plt.plot(result[2])\n",
    "    plt.savefig('i.png')"
   ]
  },
  {
   "cell_type": "code",
   "execution_count": 22,
   "metadata": {},
   "outputs": [
    {
     "name": "stdout",
     "output_type": "stream",
     "text": [
      "Squared Error + Sigmoid Activation\n",
      "Experiment  0\n",
      "[[-4.20958014]\n",
      " [ 1.41015092]\n",
      " [-1.59070436]]\n",
      "1000\n",
      "\n"
     ]
    },
    {
     "name": "stderr",
     "output_type": "stream",
     "text": [
      "<ipython-input-22-b11344e0138d>:20: MatplotlibDeprecationWarning: Adding an axes using the same arguments as a previous axes currently reuses the earlier instance.  In a future version, a new instance will always be created and returned.  Meanwhile, this warning can be suppressed, and the future behavior ensured, by passing a unique label to each axes instance.\n",
      "  plt.subplot(1, 2, 1)\n"
     ]
    },
    {
     "name": "stdout",
     "output_type": "stream",
     "text": [
      "Experiment  1\n",
      "[[-4.36120845]\n",
      " [ 1.42175904]\n",
      " [-1.564278  ]]\n",
      "1000\n",
      "\n"
     ]
    },
    {
     "name": "stderr",
     "output_type": "stream",
     "text": [
      "<ipython-input-22-b11344e0138d>:20: MatplotlibDeprecationWarning: Adding an axes using the same arguments as a previous axes currently reuses the earlier instance.  In a future version, a new instance will always be created and returned.  Meanwhile, this warning can be suppressed, and the future behavior ensured, by passing a unique label to each axes instance.\n",
      "  plt.subplot(1, 2, 1)\n",
      "<ipython-input-22-b11344e0138d>:26: MatplotlibDeprecationWarning: Adding an axes using the same arguments as a previous axes currently reuses the earlier instance.  In a future version, a new instance will always be created and returned.  Meanwhile, this warning can be suppressed, and the future behavior ensured, by passing a unique label to each axes instance.\n",
      "  plt.subplot(1, 2, 2)\n"
     ]
    },
    {
     "name": "stdout",
     "output_type": "stream",
     "text": [
      "Experiment  2\n",
      "[[-4.27045425]\n",
      " [ 1.41480657]\n",
      " [-1.58008747]]\n",
      "1000\n",
      "\n"
     ]
    },
    {
     "name": "stderr",
     "output_type": "stream",
     "text": [
      "<ipython-input-22-b11344e0138d>:20: MatplotlibDeprecationWarning: Adding an axes using the same arguments as a previous axes currently reuses the earlier instance.  In a future version, a new instance will always be created and returned.  Meanwhile, this warning can be suppressed, and the future behavior ensured, by passing a unique label to each axes instance.\n",
      "  plt.subplot(1, 2, 1)\n",
      "<ipython-input-22-b11344e0138d>:26: MatplotlibDeprecationWarning: Adding an axes using the same arguments as a previous axes currently reuses the earlier instance.  In a future version, a new instance will always be created and returned.  Meanwhile, this warning can be suppressed, and the future behavior ensured, by passing a unique label to each axes instance.\n",
      "  plt.subplot(1, 2, 2)\n"
     ]
    },
    {
     "data": {
      "image/png": "[encoded data removed]",
      "text/plain": [
       "<Figure size 1080x360 with 2 Axes>"
      ]
     },
     "metadata": {
      "needs_background": "light"
     },
     "output_type": "display_data"
    }
   ],
   "source": [
    "lr = 0.01\n",
    "\n",
    "plt.subplots(figsize=(15, 5))\n",
    "plt.subplot(1, 2, 1)\n",
    "plt.scatter(X_test[:,0], X_test[:,1], c=y_test)\n",
    "\n",
    "\n",
    "## ii.\n",
    "print(\"Squared Error + Sigmoid Activation\")\n",
    "for i in range(3):\n",
    "    weights = np.random.rand(3,1)\n",
    "    #print(weights)\n",
    "    \n",
    "    result = lr_se_sigmoid(X_train, y_train, weights, lr, 1000)\n",
    "    print(\"Experiment \", i)\n",
    "    print(result[0])\n",
    "    print(result[1])\n",
    "    \n",
    "    print(\"\")\n",
    "    \n",
    "    plt.subplot(1, 2, 1)\n",
    "    domain = np.linspace(3,8,100)\n",
    "    line = -(result[0][0] * 1 + result[0][1] * domain) / result[0][2]\n",
    "\n",
    "    plt.plot(domain,line)\n",
    "\n",
    "    plt.subplot(1, 2, 2)\n",
    "    plt.plot(result[2])\n",
    "    plt.savefig('ii.png')"
   ]
  },
  {
   "cell_type": "code",
   "execution_count": 23,
   "metadata": {},
   "outputs": [
    {
     "name": "stdout",
     "output_type": "stream",
     "text": [
      "Cross-Entropy Error + Sigmoid Activation\n",
      "Experiment  0\n",
      "[[-11.18743949]\n",
      " [  2.3451263 ]\n",
      " [ -1.3571376 ]]\n",
      "1000\n",
      "\n"
     ]
    },
    {
     "name": "stderr",
     "output_type": "stream",
     "text": [
      "<ipython-input-23-329e7dc3411f>:21: MatplotlibDeprecationWarning: Adding an axes using the same arguments as a previous axes currently reuses the earlier instance.  In a future version, a new instance will always be created and returned.  Meanwhile, this warning can be suppressed, and the future behavior ensured, by passing a unique label to each axes instance.\n",
      "  plt.subplot(1, 2, 1)\n"
     ]
    },
    {
     "name": "stdout",
     "output_type": "stream",
     "text": [
      "Experiment  1\n",
      "[[-11.20879717]\n",
      " [  2.34736699]\n",
      " [ -1.35468568]]\n",
      "1000\n",
      "\n"
     ]
    },
    {
     "name": "stderr",
     "output_type": "stream",
     "text": [
      "<ipython-input-23-329e7dc3411f>:21: MatplotlibDeprecationWarning: Adding an axes using the same arguments as a previous axes currently reuses the earlier instance.  In a future version, a new instance will always be created and returned.  Meanwhile, this warning can be suppressed, and the future behavior ensured, by passing a unique label to each axes instance.\n",
      "  plt.subplot(1, 2, 1)\n",
      "<ipython-input-23-329e7dc3411f>:27: MatplotlibDeprecationWarning: Adding an axes using the same arguments as a previous axes currently reuses the earlier instance.  In a future version, a new instance will always be created and returned.  Meanwhile, this warning can be suppressed, and the future behavior ensured, by passing a unique label to each axes instance.\n",
      "  plt.subplot(1, 2, 2)\n"
     ]
    },
    {
     "name": "stdout",
     "output_type": "stream",
     "text": [
      "Experiment  2\n",
      "[[-11.11391198]\n",
      " [  2.33742292]\n",
      " [ -1.36559695]]\n",
      "1000\n",
      "\n"
     ]
    },
    {
     "name": "stderr",
     "output_type": "stream",
     "text": [
      "<ipython-input-23-329e7dc3411f>:21: MatplotlibDeprecationWarning: Adding an axes using the same arguments as a previous axes currently reuses the earlier instance.  In a future version, a new instance will always be created and returned.  Meanwhile, this warning can be suppressed, and the future behavior ensured, by passing a unique label to each axes instance.\n",
      "  plt.subplot(1, 2, 1)\n",
      "<ipython-input-23-329e7dc3411f>:27: MatplotlibDeprecationWarning: Adding an axes using the same arguments as a previous axes currently reuses the earlier instance.  In a future version, a new instance will always be created and returned.  Meanwhile, this warning can be suppressed, and the future behavior ensured, by passing a unique label to each axes instance.\n",
      "  plt.subplot(1, 2, 2)\n"
     ]
    },
    {
     "data": {
      "image/png": "[encoded data removed]",
      "text/plain": [
       "<Figure size 1080x360 with 2 Axes>"
      ]
     },
     "metadata": {
      "needs_background": "light"
     },
     "output_type": "display_data"
    }
   ],
   "source": [
    "lr = 0.01\n",
    "\n",
    "plt.subplots(figsize=(15, 5))\n",
    "plt.subplot(1, 2, 1)\n",
    "plt.scatter(X_test[:,0], X_test[:,1], c=y_test)\n",
    "\n",
    "\n",
    "## iii.\n",
    "print(\"Cross-Entropy Error + Sigmoid Activation\")\n",
    "for i in range(3):\n",
    "    weights = np.random.rand(3,1)\n",
    "    #print(weights)\n",
    "    \n",
    "    result = lr_ce_sigmoid(X_train, y_train, weights, lr, 1000)\n",
    "    print(\"Experiment \", i)\n",
    "    print(result[0])\n",
    "    print(result[1])\n",
    "    \n",
    "    print(\"\")\n",
    "    \n",
    "    plt.subplot(1, 2, 1)\n",
    "    domain = np.linspace(3,8,100)\n",
    "    line = -(result[0][0] * 1 + result[0][1] * domain) / result[0][2]\n",
    "\n",
    "    plt.plot(domain,line)\n",
    "\n",
    "    plt.subplot(1, 2, 2)\n",
    "    plt.plot(result[2])\n",
    "    plt.savefig('iii.png')"
   ]
  },
  {
   "cell_type": "markdown",
   "metadata": {},
   "source": [
    "### c) Which model converges faster?"
   ]
  },
  {
   "cell_type": "markdown",
   "metadata": {},
   "source": [
    "By looking at the error function line charts, we can easily assess the convergence of each model. Right away we notice that Squared Errors + Linear Activation seems to converge the fastest, suggested by the straight line. However, this is not necessarily a good thing, as the model is still yielding an error of about 35. This is far from optimal.\n",
    "\n",
    "On the other hand, the third model (Cross-Entropy + Sigmoid) seems to have not converge yet, as the slope is far from neutral. This model still has some potential but does not suggest that its performance should increase much more.\n",
    "\n",
    "Lastly, the second model (Squared Error + Sigmoid) seems to be the one that yields the best results: despite the initial spike, the model seems to converge with an error of less than 10, which, compared with its peers, is easily the best."
   ]
  },
  {
   "cell_type": "markdown",
   "metadata": {},
   "source": [
    "<br>\n",
    "<br>"
   ]
  },
  {
   "cell_type": "markdown",
   "metadata": {},
   "source": [
    "### d)"
   ]
  },
  {
   "cell_type": "code",
   "execution_count": 12,
   "metadata": {},
   "outputs": [],
   "source": [
    "def accuracy(real, prediction):\n",
    "    #Accuracy = (TP+TN) / (TP+TN+FP+FN) ; Alternatively: #Equal values / #Size of arrays\n",
    "    return np.sum(real == prediction) / len(real)"
   ]
  },
  {
   "cell_type": "code",
   "execution_count": 17,
   "metadata": {},
   "outputs": [
    {
     "name": "stdout",
     "output_type": "stream",
     "text": [
      "Squared Error + Linear Activation\n",
      "Train Accuracy: 0.4666666666666667\n",
      "Test Accuracy: 0.36666666666666664\n"
     ]
    }
   ],
   "source": [
    "lr = 0.01\n",
    "\n",
    "## i.\n",
    "print(\"Squared Error + Linear Activation\")\n",
    "weights =  np.array([[1, 1, 1]]).T\n",
    "    \n",
    "weights = lr_se_linear(X_train, y_train, weights, lr, 1000)[0]\n",
    "\n",
    "train_predict = []\n",
    "for i in range(len(X_train)):\n",
    "    dp = np.insert(X_train[i], 0, 1, axis=0) # Data Point (add bias)  \n",
    "    o = linear_activation(dp,weights)\n",
    "    # Not sure if we can do this here, but it yields good acc (0.84 / 0.73)\n",
    "    #o = 1.0 if o >= 0.5 else 0.0\n",
    "    o = 1.0 if o >= 0.0 else 0.0\n",
    "    \n",
    "    train_predict.append(o)\n",
    "                    \n",
    "test_predict = []\n",
    "for i in range(len(X_test)):\n",
    "    dp = np.insert(X_test[i], 0, 1, axis=0) # Data Point (add bias)        \n",
    "    o = linear_activation(dp,weights)\n",
    "    o = 1.0 if o >= 0.0 else 0.0\n",
    "    \n",
    "    test_predict.append(o)\n",
    "                    \n",
    "\n",
    "print(\"Train Accuracy:\",accuracy(y_train, train_predict))\n",
    "print(\"Test Accuracy:\",accuracy(y_test, test_predict))"
   ]
  },
  {
   "cell_type": "code",
   "execution_count": 14,
   "metadata": {},
   "outputs": [
    {
     "name": "stdout",
     "output_type": "stream",
     "text": [
      "Squared Error + Sigmoid Activation\n",
      "Train Accuracy: 0.75\n",
      "Test Accuracy: 0.7\n"
     ]
    }
   ],
   "source": [
    "lr = 0.01\n",
    "\n",
    "## ii.\n",
    "print(\"Squared Error + Sigmoid Activation\")\n",
    "weights =  np.array([[1, 1, 1]]).T\n",
    "    \n",
    "weights = lr_se_sigmoid(X_train, y_train, weights, lr, 1000)[0]\n",
    "\n",
    "train_predict = []\n",
    "for i in range(len(X_train)):\n",
    "    dp = np.insert(X_train[i], 0, 1, axis=0) # Data Point (add bias)\n",
    "    o = sigmoid_activation(dp,weights)\n",
    "    o = 1.0 if o >= 0.5 else 0.0\n",
    "    \n",
    "    train_predict.append(o)\n",
    "                    \n",
    "test_predict = []\n",
    "for i in range(len(X_test)):\n",
    "    dp = np.insert(X_test[i], 0, 1, axis=0) # Data Point (add bias)        \n",
    "    o = sigmoid_activation(dp,weights)\n",
    "    o = 1.0 if o >= 0.5 else 0.0\n",
    "    \n",
    "    test_predict.append(o)\n",
    "                    \n",
    "\n",
    "print(\"Train Accuracy:\",accuracy(y_train, train_predict))\n",
    "print(\"Test Accuracy:\",accuracy(y_test, test_predict))"
   ]
  },
  {
   "cell_type": "code",
   "execution_count": 15,
   "metadata": {},
   "outputs": [
    {
     "name": "stdout",
     "output_type": "stream",
     "text": [
      "Cross-Entropy Error + Sigmoid Activation\n",
      "Train Accuracy: 0.7666666666666667\n",
      "Test Accuracy: 0.7333333333333333\n"
     ]
    }
   ],
   "source": [
    "lr = 0.01\n",
    "\n",
    "## iii.\n",
    "print(\"Cross-Entropy Error + Sigmoid Activation\")\n",
    "weights =  np.array([[1, 1, 1]]).T\n",
    "    \n",
    "weights = lr_ce_sigmoid(X_train, y_train, weights, lr, 1000)[0]\n",
    "\n",
    "train_predict = []\n",
    "for i in range(len(X_train)):\n",
    "    dp = np.insert(X_train[i], 0, 1, axis=0) # Data Point (add bias)  \n",
    "    o = sigmoid_activation(dp,weights)\n",
    "    o = 1.0 if o >= 0.5 else 0.0\n",
    "    \n",
    "    train_predict.append(o)\n",
    "                    \n",
    "test_predict = []\n",
    "for i in range(len(X_test)):\n",
    "    dp = np.insert(X_test[i], 0, 1, axis=0) # Data Point (add bias)        \n",
    "    o = sigmoid_activation(dp,weights)\n",
    "    o = 1.0 if o >= 0.5 else 0.0\n",
    "    \n",
    "    test_predict.append(o)\n",
    "\n",
    "\n",
    "print(\"Train Accuracy:\",accuracy(y_train, train_predict))\n",
    "print(\"Test Accuracy:\",accuracy(y_test, test_predict))"
   ]
  },
  {
   "cell_type": "markdown",
   "metadata": {},
   "source": [
    "### e) Do you get the same results as Logistic Regression of Scikit-learn?"
   ]
  },
  {
   "cell_type": "markdown",
   "metadata": {},
   "source": [
    "Although the developed model does not yield the exact same accuracy as the one used in Scikit-learn, the final values are nevertheless acceptable, both the train and test sets. It is worth highlighting that our test accuracy actually surpasses the one obtained using Sci-kit learn whilst having a lower training accuracy, suggesting our LogReg model is less prone to overfitting than the SK-Learn one.\n",
    "\n",
    "As some final remarks, we would like to highlight that the Linear Regression yielded the worse results, as expected, considering we are facing a classification problem, and a linear activation function excels at regression.\n",
    "\n",
    "Surprisingly enough, however, it seems that the model that yields the best results is the Logistic Regression (model 3), contrary to prior belief. This might be due to the fact that different error functions cannot be equally compared. We can objectively compare the first and second models since they are both using Squared Errors, but not model 2 and 3, since we would be comparing two values with different meanings."
   ]
  }
 ],
 "metadata": {
  "kernelspec": {
   "display_name": "Python 3",
   "language": "python",
   "name": "python3"
  },
  "language_info": {
   "codemirror_mode": {
    "name": "ipython",
    "version": 3
   },
   "file_extension": ".py",
   "mimetype": "text/x-python",
   "name": "python",
   "nbconvert_exporter": "python",
   "pygments_lexer": "ipython3",
   "version": "3.8.5"
  }
 },
 "nbformat": 4,
 "nbformat_minor": 4
}
