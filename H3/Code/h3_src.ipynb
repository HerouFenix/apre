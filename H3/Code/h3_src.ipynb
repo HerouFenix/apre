{
 "cells": [
  {
   "cell_type": "markdown",
   "metadata": {},
   "source": [
    "## Imports"
   ]
  },
  {
   "cell_type": "code",
   "execution_count": 1,
   "metadata": {},
   "outputs": [],
   "source": [
    "from sklearn import datasets\n",
    "from sklearn.model_selection import train_test_split\n",
    "import numpy as np\n",
    "from sklearn.linear_model import LogisticRegression\n",
    "from sklearn.metrics import accuracy_score\n",
    "import matplotlib.pyplot as plt"
   ]
  },
  {
   "cell_type": "markdown",
   "metadata": {},
   "source": [
    "## Load & Split Dataset"
   ]
  },
  {
   "cell_type": "code",
   "execution_count": 2,
   "metadata": {},
   "outputs": [
    {
     "name": "stdout",
     "output_type": "stream",
     "text": [
      "Iris Data\n",
      " ['data', 'target', 'frame', 'target_names', 'DESCR', 'feature_names', 'filename']\n",
      "[0 0 0 0 0 0 0 0 0 0 0 0 0 0 0 0 0 0 0 0 0 0 0 0 0 0 0 0 0 0 0 0 0 0 0 0 0\n",
      " 0 0 0 0 0 0 0 0 0 0 0 0 0 0 0 0 0 0 0 0 0 0 0 0 0 0 0 0 0 0 0 0 0 0 0 0 0\n",
      " 0 0 0 0 0 0 0 0 0 0 0 0 0 0 0 0 0 0 0 0 0 0 0 0 0 0 1 1 1 1 1 1 1 1 1 1 1\n",
      " 1 1 1 1 1 1 1 1 1 1 1 1 1 1 1 1 1 1 1 1 1 1 1 1 1 1 1 1 1 1 1 1 1 1 1 1 1\n",
      " 1 1]\n"
     ]
    }
   ],
   "source": [
    "iris = datasets.load_iris()\n",
    "print(\"Iris Data\\n\",list(iris.keys()))\n",
    "X = iris.data[:, :2] # we only take the first two features.\n",
    "y = (iris[\"target\"] == 2).astype(np.int) # 1 if Iris-Virginica, else 0\n",
    "print(y)\n",
    "# Split into a train and test partition.\n",
    "X_train, X_test, y_train, y_test = train_test_split(X, y, test_size=0.2,\n",
    "random_state=0)"
   ]
  },
  {
   "cell_type": "markdown",
   "metadata": {},
   "source": [
    "<br>\n",
    "<br>"
   ]
  },
  {
   "cell_type": "markdown",
   "metadata": {},
   "source": [
    "## Exercise 1. - Logistic Regression with Scikit Learning"
   ]
  },
  {
   "cell_type": "code",
   "execution_count": 3,
   "metadata": {},
   "outputs": [
    {
     "name": "stdout",
     "output_type": "stream",
     "text": [
      "Predict (train): [1 0 0 0 1 0 0 0 0 0 1 0 1 0 0 0 1 1 0 1 0 1 0 0 1 1 0 1 1 1 0 0 0 0 0 0 0\n",
      " 1 0 0 1 0 0 0 1 0 0 0 0 1 1 0 0 1 1 1 1 0 0 1 1 0 0 0 0 1 0 0 1 0 0 0 0 1\n",
      " 1 0 0 0 0 1 0 0 1 0 1 0 1 1 0 0 0 1 0 0 1 0 0 0 0 0 1 1 1 1 0 0 1 0 0 1 0\n",
      " 0 1 0 0 0 1 0 1 0]\n",
      "Predict (test): [0 0 0 1 0 0 0 1 1 0 0 1 0 1 0 0 0 0 0 0 0 0 0 0 0 0 0 0 0 0]\n"
     ]
    }
   ],
   "source": [
    "log_reg = LogisticRegression()\n",
    "log_reg.fit(X_train, y_train)\n",
    "\n",
    "train_predict = log_reg.predict(X_train[:len(y_train), :])\n",
    "test_predict = log_reg.predict(X_test[:len(y_test), :])\n",
    "print(\"Predict (train):\", train_predict)\n",
    "print(\"Predict (test):\", test_predict)"
   ]
  },
  {
   "cell_type": "markdown",
   "metadata": {},
   "source": [
    "### Accuracy using SKLearn"
   ]
  },
  {
   "cell_type": "code",
   "execution_count": 4,
   "metadata": {},
   "outputs": [
    {
     "name": "stdout",
     "output_type": "stream",
     "text": [
      "Actual (train): [1 0 0 1 1 0 0 0 0 0 1 0 1 0 0 0 1 1 1 1 0 1 0 0 1 1 1 1 0 1 0 0 1 0 0 0 0\n",
      " 1 0 0 1 0 0 0 0 0 1 0 0 0 1 0 0 1 1 1 1 0 0 1 1 0 1 0 1 1 0 0 1 0 0 0 0 1\n",
      " 1 0 0 0 0 0 0 0 0 0 1 0 1 0 0 1 0 1 0 0 1 0 1 0 0 0 1 1 0 0 0 0 1 1 0 0 0\n",
      " 0 0 0 0 0 1 0 1 0]\n",
      "Actual (test): [1 0 0 1 0 1 0 0 0 0 1 0 0 0 0 0 0 0 0 0 1 0 0 0 1 0 0 0 0 0]\n",
      "Train Accuracy: 0.8333333333333334\n",
      "Test Accuracy: 0.7\n"
     ]
    }
   ],
   "source": [
    "print(\"Actual (train):\",y_train)\n",
    "print(\"Actual (test):\",y_test)\n",
    "\n",
    "# Using SKLearn\n",
    "print(\"Train Accuracy:\",accuracy_score(y_train, train_predict))\n",
    "print(\"Test Accuracy:\",accuracy_score(y_test, test_predict))"
   ]
  },
  {
   "cell_type": "markdown",
   "metadata": {},
   "source": [
    "### Accuracy without using SKLearn"
   ]
  },
  {
   "cell_type": "code",
   "execution_count": 5,
   "metadata": {},
   "outputs": [],
   "source": [
    "def accuracy(real, prediction):\n",
    "    #Accuracy = (TP+TN) / (TP+TN+FP+FN) ; Alternatively: #Equal values / #Size of arrays\n",
    "    return np.sum(real == prediction) / len(real)"
   ]
  },
  {
   "cell_type": "code",
   "execution_count": 6,
   "metadata": {},
   "outputs": [
    {
     "name": "stdout",
     "output_type": "stream",
     "text": [
      "Actual (train): [1 0 0 1 1 0 0 0 0 0 1 0 1 0 0 0 1 1 1 1 0 1 0 0 1 1 1 1 0 1 0 0 1 0 0 0 0\n",
      " 1 0 0 1 0 0 0 0 0 1 0 0 0 1 0 0 1 1 1 1 0 0 1 1 0 1 0 1 1 0 0 1 0 0 0 0 1\n",
      " 1 0 0 0 0 0 0 0 0 0 1 0 1 0 0 1 0 1 0 0 1 0 1 0 0 0 1 1 0 0 0 0 1 1 0 0 0\n",
      " 0 0 0 0 0 1 0 1 0]\n",
      "Actual (test): [1 0 0 1 0 1 0 0 0 0 1 0 0 0 0 0 0 0 0 0 1 0 0 0 1 0 0 0 0 0]\n",
      "Train Accuracy: 0.8333333333333334\n",
      "Test Accuracy: 0.7\n"
     ]
    }
   ],
   "source": [
    "print(\"Actual (train):\",y_train)\n",
    "print(\"Actual (test):\",y_test)\n",
    "\n",
    "# Without using SKLearn\n",
    "print(\"Train Accuracy:\",accuracy(y_train, train_predict))\n",
    "print(\"Test Accuracy:\",accuracy(y_test, test_predict))"
   ]
  },
  {
   "cell_type": "markdown",
   "metadata": {},
   "source": [
    "<br>\n",
    "<br>"
   ]
  },
  {
   "cell_type": "markdown",
   "metadata": {},
   "source": [
    "## Exercise 2. - Perceptron with Numpy"
   ]
  },
  {
   "cell_type": "markdown",
   "metadata": {},
   "source": [
    "### a)"
   ]
  },
  {
   "cell_type": "code",
   "execution_count": 7,
   "metadata": {},
   "outputs": [],
   "source": [
    "# Activation Functions\n",
    "def linear_activation(x, w):\n",
    "    predict = w.T @ x\n",
    "    return predict\n",
    "    #return 1.0 if predict >= 0.0 else 0.0\n",
    "\n",
    "def sigmoid_activation(x, w):\n",
    "    z = linear_activation(x,w)\n",
    "    predict = np.exp(z) / (1 + np.exp(z))\n",
    "    return predict\n",
    "    #return 1.0 if predict >= 0.0 else 0.0\n",
    "\n",
    "#i\n",
    "def lr_se_linear(x, y, w, niu, max_epochs = 10000):\n",
    "    num_epochs = 0\n",
    "    errors = []\n",
    "\n",
    "    while(True):\n",
    "        if(num_epochs >= max_epochs): break\n",
    "            \n",
    "        num_epochs += 1\n",
    "        changed = False\n",
    "        err_cum = 0\n",
    "        #print(\"epoch: \", num_epochs)\n",
    "        \n",
    "        for i in range(len(x)):\n",
    "            dp = np.insert(x[i], 0, 1, axis=0) # Data Point (add bias)\n",
    "            \n",
    "            # 1. Compute output - activation function\n",
    "            o = linear_activation(dp, w)\n",
    "                \n",
    "            #print(\"   y: \", y[i])\n",
    "            #print(\"   o: \", o)\n",
    "\n",
    "            # 2. Compute error: niu (y - o) * x\n",
    "            delta = (y[i] - o)\n",
    "            err_cum += abs(delta)\n",
    "            \n",
    "            if(abs(delta) < 1e-5): continue\n",
    "\n",
    "            # 3. Update weights\n",
    "            w = w + np.reshape((niu * delta * dp), w.shape)\n",
    "            \n",
    "            #print(\"   w: \",w)\n",
    "            \n",
    "            changed = True\n",
    "            \n",
    "        errors.append(err_cum)\n",
    "        \n",
    "        if(not changed): break\n",
    "            \n",
    "    return (w, num_epochs, errors)\n",
    "\n",
    "#ii\n",
    "def lr_se_sigmoid(x, y, w, niu, max_epochs = 10000):\n",
    "    num_epochs = 0\n",
    "    errors = []\n",
    "\n",
    "    while(True):\n",
    "        if(num_epochs >= max_epochs): break\n",
    "            \n",
    "        num_epochs += 1\n",
    "        changed = False\n",
    "        err_cum = 0\n",
    "        #print(\"epoch: \", num_epochs)\n",
    "        \n",
    "        for i in range(len(x)):\n",
    "            dp = np.insert(x[i], 0, 1, axis=0) # Data Point (add bias)\n",
    "            \n",
    "            # 1. Compute output - activation function\n",
    "            o = sigmoid_activation(dp, w)\n",
    "                \n",
    "            #print(\"   y: \", y[i])\n",
    "            #print(\"   o: \", o)\n",
    "\n",
    "            # 2. Compute error: niu (y - o) * x\n",
    "            delta = (y[i] - o)\n",
    "            err_cum += abs(delta)\n",
    "            \n",
    "            if(abs(delta) < 1e-5): continue\n",
    "\n",
    "            # 3. Update weights\n",
    "            w = w + np.reshape((niu * delta * dp), w.shape)\n",
    "            \n",
    "            #print(\"   w: \",w)\n",
    "            \n",
    "            changed = True\n",
    "            \n",
    "        errors.append(err_cum)\n",
    "        \n",
    "        if(not changed): break\n",
    "            \n",
    "    return (w, num_epochs, errors)\n",
    "\n",
    "#iii - TODO\n",
    "def lr_ce_sigmoid(x, y, w, niu, max_epochs = 1000):\n",
    "    return"
   ]
  },
  {
   "cell_type": "code",
   "execution_count": 28,
   "metadata": {},
   "outputs": [
    {
     "ename": "KeyboardInterrupt",
     "evalue": "",
     "output_type": "error",
     "traceback": [
      "\u001b[1;31m---------------------------------------------------------------------------\u001b[0m",
      "\u001b[1;31mKeyboardInterrupt\u001b[0m                         Traceback (most recent call last)",
      "\u001b[1;32m<ipython-input-28-716ec85e028f>\u001b[0m in \u001b[0;36m<module>\u001b[1;34m\u001b[0m\n\u001b[0;32m      6\u001b[0m \u001b[1;33m\u001b[0m\u001b[0m\n\u001b[0;32m      7\u001b[0m \u001b[1;31m## i.\u001b[0m\u001b[1;33m\u001b[0m\u001b[1;33m\u001b[0m\u001b[1;33m\u001b[0m\u001b[0m\n\u001b[1;32m----> 8\u001b[1;33m \u001b[0mresult\u001b[0m \u001b[1;33m=\u001b[0m \u001b[0mlr_se_linear\u001b[0m\u001b[1;33m(\u001b[0m\u001b[0mX_train\u001b[0m\u001b[1;33m,\u001b[0m \u001b[0my_train\u001b[0m\u001b[1;33m,\u001b[0m \u001b[0mnp\u001b[0m\u001b[1;33m.\u001b[0m\u001b[0marray\u001b[0m\u001b[1;33m(\u001b[0m\u001b[1;33m[\u001b[0m\u001b[1;33m[\u001b[0m\u001b[1;36m1\u001b[0m\u001b[1;33m,\u001b[0m \u001b[1;36m1\u001b[0m\u001b[1;33m,\u001b[0m \u001b[1;36m1\u001b[0m\u001b[1;33m]\u001b[0m\u001b[1;33m]\u001b[0m\u001b[1;33m)\u001b[0m\u001b[1;33m.\u001b[0m\u001b[0mT\u001b[0m\u001b[1;33m,\u001b[0m \u001b[1;36m0.01\u001b[0m\u001b[1;33m)\u001b[0m\u001b[1;33m\u001b[0m\u001b[1;33m\u001b[0m\u001b[0m\n\u001b[0m\u001b[0;32m      9\u001b[0m \u001b[1;33m\u001b[0m\u001b[0m\n\u001b[0;32m     10\u001b[0m \u001b[0mprint\u001b[0m\u001b[1;33m(\u001b[0m\u001b[0mresult\u001b[0m\u001b[1;33m[\u001b[0m\u001b[1;36m0\u001b[0m\u001b[1;33m]\u001b[0m\u001b[1;33m)\u001b[0m\u001b[1;33m\u001b[0m\u001b[1;33m\u001b[0m\u001b[0m\n",
      "\u001b[1;32m<ipython-input-27-09237ba75e67>\u001b[0m in \u001b[0;36mlr_se_linear\u001b[1;34m(x, y, w, niu, max_epochs)\u001b[0m\n\u001b[0;32m     25\u001b[0m \u001b[1;33m\u001b[0m\u001b[0m\n\u001b[0;32m     26\u001b[0m         \u001b[1;32mfor\u001b[0m \u001b[0mi\u001b[0m \u001b[1;32min\u001b[0m \u001b[0mrange\u001b[0m\u001b[1;33m(\u001b[0m\u001b[0mlen\u001b[0m\u001b[1;33m(\u001b[0m\u001b[0mx\u001b[0m\u001b[1;33m)\u001b[0m\u001b[1;33m)\u001b[0m\u001b[1;33m:\u001b[0m\u001b[1;33m\u001b[0m\u001b[1;33m\u001b[0m\u001b[0m\n\u001b[1;32m---> 27\u001b[1;33m             \u001b[0mdp\u001b[0m \u001b[1;33m=\u001b[0m \u001b[0mnp\u001b[0m\u001b[1;33m.\u001b[0m\u001b[0minsert\u001b[0m\u001b[1;33m(\u001b[0m\u001b[0mx\u001b[0m\u001b[1;33m[\u001b[0m\u001b[0mi\u001b[0m\u001b[1;33m]\u001b[0m\u001b[1;33m,\u001b[0m \u001b[1;36m0\u001b[0m\u001b[1;33m,\u001b[0m \u001b[1;36m1\u001b[0m\u001b[1;33m,\u001b[0m \u001b[0maxis\u001b[0m\u001b[1;33m=\u001b[0m\u001b[1;36m0\u001b[0m\u001b[1;33m)\u001b[0m \u001b[1;31m# Data Point (add bias)\u001b[0m\u001b[1;33m\u001b[0m\u001b[1;33m\u001b[0m\u001b[0m\n\u001b[0m\u001b[0;32m     28\u001b[0m \u001b[1;33m\u001b[0m\u001b[0m\n\u001b[0;32m     29\u001b[0m             \u001b[1;31m# 1. Compute output - activation function\u001b[0m\u001b[1;33m\u001b[0m\u001b[1;33m\u001b[0m\u001b[1;33m\u001b[0m\u001b[0m\n",
      "\u001b[1;32m<__array_function__ internals>\u001b[0m in \u001b[0;36minsert\u001b[1;34m(*args, **kwargs)\u001b[0m\n",
      "\u001b[1;32mD:\\Anaconda\\lib\\site-packages\\numpy\\lib\\function_base.py\u001b[0m in \u001b[0;36minsert\u001b[1;34m(arr, obj, values, axis)\u001b[0m\n\u001b[0;32m   4580\u001b[0m         \u001b[0mslobj2\u001b[0m \u001b[1;33m=\u001b[0m \u001b[1;33m[\u001b[0m\u001b[0mslice\u001b[0m\u001b[1;33m(\u001b[0m\u001b[1;32mNone\u001b[0m\u001b[1;33m)\u001b[0m\u001b[1;33m]\u001b[0m \u001b[1;33m*\u001b[0m \u001b[0mndim\u001b[0m\u001b[1;33m\u001b[0m\u001b[1;33m\u001b[0m\u001b[0m\n\u001b[0;32m   4581\u001b[0m         \u001b[0mslobj2\u001b[0m\u001b[1;33m[\u001b[0m\u001b[0maxis\u001b[0m\u001b[1;33m]\u001b[0m \u001b[1;33m=\u001b[0m \u001b[0mslice\u001b[0m\u001b[1;33m(\u001b[0m\u001b[0mindex\u001b[0m\u001b[1;33m,\u001b[0m \u001b[1;32mNone\u001b[0m\u001b[1;33m)\u001b[0m\u001b[1;33m\u001b[0m\u001b[1;33m\u001b[0m\u001b[0m\n\u001b[1;32m-> 4582\u001b[1;33m         \u001b[0mnew\u001b[0m\u001b[1;33m[\u001b[0m\u001b[0mtuple\u001b[0m\u001b[1;33m(\u001b[0m\u001b[0mslobj\u001b[0m\u001b[1;33m)\u001b[0m\u001b[1;33m]\u001b[0m \u001b[1;33m=\u001b[0m \u001b[0marr\u001b[0m\u001b[1;33m[\u001b[0m\u001b[0mtuple\u001b[0m\u001b[1;33m(\u001b[0m\u001b[0mslobj2\u001b[0m\u001b[1;33m)\u001b[0m\u001b[1;33m]\u001b[0m\u001b[1;33m\u001b[0m\u001b[1;33m\u001b[0m\u001b[0m\n\u001b[0m\u001b[0;32m   4583\u001b[0m         \u001b[1;32mif\u001b[0m \u001b[0mwrap\u001b[0m\u001b[1;33m:\u001b[0m\u001b[1;33m\u001b[0m\u001b[1;33m\u001b[0m\u001b[0m\n\u001b[0;32m   4584\u001b[0m             \u001b[1;32mreturn\u001b[0m \u001b[0mwrap\u001b[0m\u001b[1;33m(\u001b[0m\u001b[0mnew\u001b[0m\u001b[1;33m)\u001b[0m\u001b[1;33m\u001b[0m\u001b[1;33m\u001b[0m\u001b[0m\n",
      "\u001b[1;31mKeyboardInterrupt\u001b[0m: "
     ]
    }
   ],
   "source": [
    "#hw_x = np.arange(0,10).reshape(-1,1)\n",
    "#t = np.arange(0,10) * 2 + 1\n",
    "#niu = 0.01\n",
    "#w = np.array([[1,1]]).T\n",
    "#result = lr_se_linear(hw_x, t, w, niu)\n",
    "\n",
    "## i.\n",
    "result = lr_se_linear(X_train, y_train, np.array([[1, 1, 1]]).T, 0.01)\n",
    "\n",
    "print(result[0])\n",
    "print(result[1])\n",
    "\n",
    "plt.plot(result[2])\n",
    "\n",
    "\n",
    "## ii.\n",
    "result = lr_se_sigmoid(X_train, y_train, np.array([[1, 1, 1]]).T, 0.01)\n",
    "\n",
    "print(result[0])\n",
    "print(result[1])\n",
    "\n",
    "plt.plot(result[2])"
   ]
  },
  {
   "cell_type": "markdown",
   "metadata": {},
   "source": [
    "### b)"
   ]
  },
  {
   "cell_type": "code",
   "execution_count": 57,
   "metadata": {},
   "outputs": [
    {
     "name": "stdout",
     "output_type": "stream",
     "text": [
      "Squared Error + Linear Activation\n",
      "Experiment  0\n",
      "[[-1.78470435]\n",
      " [ 0.38405496]\n",
      " [-0.0279618 ]]\n",
      "1000\n",
      "\n",
      "Experiment  1\n",
      "[[-1.78470444]\n",
      " [ 0.38405497]\n",
      " [-0.02796178]]\n",
      "1000\n",
      "\n",
      "Experiment  2\n",
      "[[-1.78470463]\n",
      " [ 0.38405498]\n",
      " [-0.02796175]]\n",
      "1000\n",
      "\n"
     ]
    },
    {
     "data": {
      "image/png": "[encoded data removed]",
      "text/plain": [
       "<Figure size 432x288 with 1 Axes>"
      ]
     },
     "metadata": {
      "needs_background": "light"
     },
     "output_type": "display_data"
    },
    {
     "data": {
      "image/png": "[encoded data removed]",
      "text/plain": [
       "<Figure size 432x288 with 1 Axes>"
      ]
     },
     "metadata": {
      "needs_background": "light"
     },
     "output_type": "display_data"
    }
   ],
   "source": [
    "lr = 0.01\n",
    "\n",
    "plt.figure(0)\n",
    "plt.scatter(X_test[:,0], X_test[:,1], c=y_test)\n",
    "\n",
    "\n",
    "## i.\n",
    "print(\"Squared Error + Linear Activation\")\n",
    "for i in range(3):\n",
    "    weights = np.random.rand(3,1)\n",
    "    #print(weights)\n",
    "    \n",
    "    result = lr_se_linear(X_train, y_train, weights, lr, 1000)\n",
    "    print(\"Experiment \", i)\n",
    "    print(result[0])\n",
    "    print(result[1])\n",
    "    \n",
    "    print(\"\")\n",
    "    \n",
    "    plt.figure(0)\n",
    "    domain = np.linspace(3,8,100)\n",
    "    line = -(result[0][0] * 1 + result[0][1] * domain) / result[0][2]\n",
    "\n",
    "    plt.plot(domain,line)\n",
    "\n",
    "    plt.figure(1)\n",
    "    plt.plot(result[2])"
   ]
  },
  {
   "cell_type": "code",
   "execution_count": 59,
   "metadata": {},
   "outputs": [
    {
     "name": "stdout",
     "output_type": "stream",
     "text": [
      "Squared Error + Sigmoid Activation\n",
      "Experiment  0\n",
      "[[-11.18109573]\n",
      " [  2.34446103]\n",
      " [ -1.35786633]]\n",
      "1000\n",
      "\n",
      "Experiment  1\n",
      "[[-11.13635927]\n",
      " [  2.33977295]\n",
      " [ -1.36301138]]\n",
      "1000\n",
      "\n",
      "Experiment  2\n",
      "[[-11.1997327 ]\n",
      " [  2.34641584]\n",
      " [ -1.35572602]]\n",
      "1000\n",
      "\n"
     ]
    },
    {
     "data": {
      "image/png": "[encoded data removed]",
      "text/plain": [
       "<Figure size 432x288 with 1 Axes>"
      ]
     },
     "metadata": {
      "needs_background": "light"
     },
     "output_type": "display_data"
    },
    {
     "data": {
      "image/png": "[encoded data removed]",
      "text/plain": [
       "<Figure size 432x288 with 1 Axes>"
      ]
     },
     "metadata": {
      "needs_background": "light"
     },
     "output_type": "display_data"
    }
   ],
   "source": [
    "lr = 0.01\n",
    "\n",
    "plt.figure(0)\n",
    "plt.scatter(X_test[:,0], X_test[:,1], c=y_test)\n",
    "\n",
    "\n",
    "## ii.\n",
    "print(\"Squared Error + Sigmoid Activation\")\n",
    "for i in range(3):\n",
    "    weights = np.random.rand(3,1)\n",
    "    #print(weights)\n",
    "    \n",
    "    result = lr_se_sigmoid(X_train, y_train, weights, lr, 1000)\n",
    "    print(\"Experiment \", i)\n",
    "    print(result[0])\n",
    "    print(result[1])\n",
    "    \n",
    "    print(\"\")\n",
    "    \n",
    "    plt.figure(0)\n",
    "    domain = np.linspace(3,8,100)\n",
    "    line = -(result[0][0] * 1 + result[0][1] * domain) / result[0][2]\n",
    "\n",
    "    plt.plot(domain,line)\n",
    "\n",
    "    plt.figure(1)\n",
    "    plt.plot(result[2])"
   ]
  },
  {
   "cell_type": "code",
   "execution_count": null,
   "metadata": {},
   "outputs": [],
   "source": []
  },
  {
   "cell_type": "code",
   "execution_count": null,
   "metadata": {},
   "outputs": [],
   "source": []
  },
  {
   "cell_type": "markdown",
   "metadata": {},
   "source": [
    "### c)"
   ]
  },
  {
   "cell_type": "code",
   "execution_count": null,
   "metadata": {},
   "outputs": [],
   "source": []
  },
  {
   "cell_type": "code",
   "execution_count": null,
   "metadata": {},
   "outputs": [],
   "source": []
  },
  {
   "cell_type": "markdown",
   "metadata": {},
   "source": [
    "### d)"
   ]
  },
  {
   "cell_type": "code",
   "execution_count": 13,
   "metadata": {},
   "outputs": [],
   "source": [
    "def accuracy(real, prediction):\n",
    "    #Accuracy = (TP+TN) / (TP+TN+FP+FN) ; Alternatively: #Equal values / #Size of arrays\n",
    "    return np.sum(real == prediction) / len(real)"
   ]
  },
  {
   "cell_type": "code",
   "execution_count": 18,
   "metadata": {},
   "outputs": [
    {
     "name": "stdout",
     "output_type": "stream",
     "text": [
      "Squared Error + Linear Activation\n",
      "Train Accuracy: 0.4666666666666667\n",
      "Test Accuracy: 0.36666666666666664\n"
     ]
    }
   ],
   "source": [
    "lr = 0.01\n",
    "\n",
    "## i.\n",
    "print(\"Squared Error + Linear Activation\")\n",
    "weights =  np.array([[1, 1, 1]]).T\n",
    "    \n",
    "weights = lr_se_linear(X_train, y_train, weights, lr, 1000)[0]\n",
    "\n",
    "train_predict = []\n",
    "for i in range(len(X_train)):\n",
    "    dp = np.insert(X_train[i], 0, 1, axis=0) # Data Point (add bias)  \n",
    "    o = linear_activation(dp,weights)\n",
    "    o = 1.0 if o >= 0.0 else 0.0\n",
    "    \n",
    "    train_predict.append(o)\n",
    "                    \n",
    "test_predict = []\n",
    "for i in range(len(X_test)):\n",
    "    dp = np.insert(X_test[i], 0, 1, axis=0) # Data Point (add bias)        \n",
    "    o = linear_activation(dp,weights)\n",
    "    o = 1.0 if o >= 0.0 else 0.0\n",
    "    \n",
    "    test_predict.append(o)\n",
    "                    \n",
    "\n",
    "print(\"Train Accuracy:\",accuracy(y_train, train_predict))\n",
    "print(\"Test Accuracy:\",accuracy(y_test, test_predict))"
   ]
  },
  {
   "cell_type": "code",
   "execution_count": 20,
   "metadata": {},
   "outputs": [
    {
     "name": "stdout",
     "output_type": "stream",
     "text": [
      "Squared Error + Sigmoid Activation\n",
      "Train Accuracy: 0.36666666666666664\n",
      "Test Accuracy: 0.2\n"
     ]
    }
   ],
   "source": [
    "lr = 0.01\n",
    "\n",
    "## ii.\n",
    "print(\"Squared Error + Sigmoid Activation\")\n",
    "weights =  np.array([[1, 1, 1]]).T\n",
    "    \n",
    "weights = lr_se_sigmoid(X_train, y_train, weights, lr, 1000)[0]\n",
    "\n",
    "train_predict = []\n",
    "for i in range(len(X_train)):\n",
    "    dp = np.insert(X_train[i], 0, 1, axis=0) # Data Point (add bias)  \n",
    "    o = sigmoid_activation(dp,weights)\n",
    "    o = 1.0 if o >= 0.0 else 0.0\n",
    "    \n",
    "    train_predict.append(o)\n",
    "                    \n",
    "test_predict = []\n",
    "for i in range(len(X_test)):\n",
    "    dp = np.insert(X_test[i], 0, 1, axis=0) # Data Point (add bias)        \n",
    "    o = sigmoid_activation(dp,weights)\n",
    "    o = 1.0 if o >= 0.0 else 0.0\n",
    "    \n",
    "    test_predict.append(o)\n",
    "                    \n",
    "\n",
    "print(\"Train Accuracy:\",accuracy(y_train, train_predict))\n",
    "print(\"Test Accuracy:\",accuracy(y_test, test_predict))"
   ]
  },
  {
   "cell_type": "code",
   "execution_count": null,
   "metadata": {},
   "outputs": [],
   "source": []
  },
  {
   "cell_type": "markdown",
   "metadata": {},
   "source": [
    "### e)"
   ]
  },
  {
   "cell_type": "markdown",
   "metadata": {},
   "source": [
    "no"
   ]
  },
  {
   "cell_type": "code",
   "execution_count": null,
   "metadata": {},
   "outputs": [],
   "source": []
  }
 ],
 "metadata": {
  "kernelspec": {
   "display_name": "Python 3",
   "language": "python",
   "name": "python3"
  },
  "language_info": {
   "codemirror_mode": {
    "name": "ipython",
    "version": 3
   },
   "file_extension": ".py",
   "mimetype": "text/x-python",
   "name": "python",
   "nbconvert_exporter": "python",
   "pygments_lexer": "ipython3",
   "version": "3.8.5"
  }
 },
 "nbformat": 4,
 "nbformat_minor": 4
}
