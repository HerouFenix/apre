{
 "cells": [
  {
   "cell_type": "markdown",
   "metadata": {},
   "source": [
    "## Imports"
   ]
  },
  {
   "cell_type": "code",
   "execution_count": 74,
   "metadata": {},
   "outputs": [],
   "source": [
    "from sklearn import datasets\n",
    "from sklearn.model_selection import train_test_split\n",
    "import numpy as np\n",
    "from sklearn.linear_model import LogisticRegression\n",
    "from sklearn.metrics import accuracy_score\n",
    "import matplotlib.pyplot as plt"
   ]
  },
  {
   "cell_type": "markdown",
   "metadata": {},
   "source": [
    "## Load & Split Dataset"
   ]
  },
  {
   "cell_type": "code",
   "execution_count": 75,
   "metadata": {},
   "outputs": [
    {
     "name": "stdout",
     "output_type": "stream",
     "text": [
      "Iris Data\n",
      " ['data', 'target', 'frame', 'target_names', 'DESCR', 'feature_names', 'filename']\n",
      "[0 0 0 0 0 0 0 0 0 0 0 0 0 0 0 0 0 0 0 0 0 0 0 0 0 0 0 0 0 0 0 0 0 0 0 0 0\n",
      " 0 0 0 0 0 0 0 0 0 0 0 0 0 0 0 0 0 0 0 0 0 0 0 0 0 0 0 0 0 0 0 0 0 0 0 0 0\n",
      " 0 0 0 0 0 0 0 0 0 0 0 0 0 0 0 0 0 0 0 0 0 0 0 0 0 0 1 1 1 1 1 1 1 1 1 1 1\n",
      " 1 1 1 1 1 1 1 1 1 1 1 1 1 1 1 1 1 1 1 1 1 1 1 1 1 1 1 1 1 1 1 1 1 1 1 1 1\n",
      " 1 1]\n"
     ]
    }
   ],
   "source": [
    "iris = datasets.load_iris()\n",
    "print(\"Iris Data\\n\",list(iris.keys()))\n",
    "X = iris.data[:, :2] # we only take the first two features.\n",
    "y = (iris[\"target\"] == 2).astype(np.int) # 1 if Iris-Virginica, else 0\n",
    "print(y)\n",
    "# Split into a train and test partition.\n",
    "X_train, X_test, y_train, y_test = train_test_split(X, y, test_size=0.2,\n",
    "random_state=0)"
   ]
  },
  {
   "cell_type": "markdown",
   "metadata": {},
   "source": [
    "<br>\n",
    "<br>"
   ]
  },
  {
   "cell_type": "markdown",
   "metadata": {},
   "source": [
    "## Exercise 1. - Logistic Regression with Sci-kit Learn"
   ]
  },
  {
   "cell_type": "code",
   "execution_count": 76,
   "metadata": {},
   "outputs": [
    {
     "name": "stdout",
     "output_type": "stream",
     "text": [
      "Predict (train): [1 0 0 0 1 0 0 0 0 0 1 0 1 0 0 0 1 1 0 1 0 1 0 0 1 1 0 1 1 1 0 0 0 0 0 0 0\n",
      " 1 0 0 1 0 0 0 1 0 0 0 0 1 1 0 0 1 1 1 1 0 0 1 1 0 0 0 0 1 0 0 1 0 0 0 0 1\n",
      " 1 0 0 0 0 1 0 0 1 0 1 0 1 1 0 0 0 1 0 0 1 0 0 0 0 0 1 1 1 1 0 0 1 0 0 1 0\n",
      " 0 1 0 0 0 1 0 1 0]\n",
      "Predict (test): [0 0 0 1 0 0 0 1 1 0 0 1 0 1 0 0 0 0 0 0 0 0 0 0 0 0 0 0 0 0]\n"
     ]
    }
   ],
   "source": [
    "log_reg = LogisticRegression()\n",
    "log_reg.fit(X_train, y_train)\n",
    "\n",
    "train_predict = log_reg.predict(X_train[:len(y_train), :])\n",
    "test_predict = log_reg.predict(X_test[:len(y_test), :])\n",
    "print(\"Predict (train):\", train_predict)\n",
    "print(\"Predict (test):\", test_predict)"
   ]
  },
  {
   "cell_type": "markdown",
   "metadata": {},
   "source": [
    "### Accuracy using SKLearn"
   ]
  },
  {
   "cell_type": "code",
   "execution_count": 77,
   "metadata": {},
   "outputs": [
    {
     "name": "stdout",
     "output_type": "stream",
     "text": [
      "Actual (train): [1 0 0 1 1 0 0 0 0 0 1 0 1 0 0 0 1 1 1 1 0 1 0 0 1 1 1 1 0 1 0 0 1 0 0 0 0\n",
      " 1 0 0 1 0 0 0 0 0 1 0 0 0 1 0 0 1 1 1 1 0 0 1 1 0 1 0 1 1 0 0 1 0 0 0 0 1\n",
      " 1 0 0 0 0 0 0 0 0 0 1 0 1 0 0 1 0 1 0 0 1 0 1 0 0 0 1 1 0 0 0 0 1 1 0 0 0\n",
      " 0 0 0 0 0 1 0 1 0]\n",
      "Actual (test): [1 0 0 1 0 1 0 0 0 0 1 0 0 0 0 0 0 0 0 0 1 0 0 0 1 0 0 0 0 0]\n",
      "Train Accuracy: 0.8333333333333334\n",
      "Test Accuracy: 0.7\n"
     ]
    }
   ],
   "source": [
    "print(\"Actual (train):\",y_train)\n",
    "print(\"Actual (test):\",y_test)\n",
    "\n",
    "# Using SKLearn\n",
    "print(\"Train Accuracy:\",accuracy_score(y_train, train_predict))\n",
    "print(\"Test Accuracy:\",accuracy_score(y_test, test_predict))"
   ]
  },
  {
   "cell_type": "markdown",
   "metadata": {},
   "source": [
    "### Accuracy without using SKLearn"
   ]
  },
  {
   "cell_type": "code",
   "execution_count": 78,
   "metadata": {},
   "outputs": [],
   "source": [
    "def accuracy(real, prediction):\n",
    "    #Accuracy = (TP+TN) / (TP+TN+FP+FN) ; Alternatively: #Equal values / #Size of arrays\n",
    "    return np.sum(real == prediction) / len(real)"
   ]
  },
  {
   "cell_type": "code",
   "execution_count": 79,
   "metadata": {},
   "outputs": [
    {
     "name": "stdout",
     "output_type": "stream",
     "text": [
      "Actual (train): [1 0 0 1 1 0 0 0 0 0 1 0 1 0 0 0 1 1 1 1 0 1 0 0 1 1 1 1 0 1 0 0 1 0 0 0 0\n",
      " 1 0 0 1 0 0 0 0 0 1 0 0 0 1 0 0 1 1 1 1 0 0 1 1 0 1 0 1 1 0 0 1 0 0 0 0 1\n",
      " 1 0 0 0 0 0 0 0 0 0 1 0 1 0 0 1 0 1 0 0 1 0 1 0 0 0 1 1 0 0 0 0 1 1 0 0 0\n",
      " 0 0 0 0 0 1 0 1 0]\n",
      "Actual (test): [1 0 0 1 0 1 0 0 0 0 1 0 0 0 0 0 0 0 0 0 1 0 0 0 1 0 0 0 0 0]\n",
      "Train Accuracy: 0.8333333333333334\n",
      "Test Accuracy: 0.7\n"
     ]
    }
   ],
   "source": [
    "print(\"Actual (train):\",y_train)\n",
    "print(\"Actual (test):\",y_test)\n",
    "\n",
    "# Without using SKLearn\n",
    "print(\"Train Accuracy:\", accuracy(y_train, train_predict))\n",
    "print(\"Test Accuracy:\", accuracy(y_test, test_predict))"
   ]
  },
  {
   "cell_type": "markdown",
   "metadata": {},
   "source": [
    "<br>\n",
    "<br>"
   ]
  },
  {
   "cell_type": "markdown",
   "metadata": {},
   "source": [
    "## Exercise 2. - Perceptron with Numpy"
   ]
  },
  {
   "cell_type": "markdown",
   "metadata": {},
   "source": [
    "### a) Implementing the update rules for Squared Errors and Cross-Entropy with Linear and Sigmoid activation functions"
   ]
  },
  {
   "cell_type": "code",
   "execution_count": 118,
   "metadata": {},
   "outputs": [],
   "source": [
    "# Activation Functions\n",
    "def linear_activation(x, w):\n",
    "    predict = w.T @ x\n",
    "    return predict\n",
    "    #return 1.0 if predict >= 0.0 else 0.0\n",
    "\n",
    "def sigmoid_activation(x, w):\n",
    "    z = linear_activation(x,w)\n",
    "    return sigmoid(z)\n",
    "    #return 1.0 if predict >= 0.0 else 0.0\n",
    "    \n",
    "def sigmoid(z):\n",
    "    predict = np.exp(z) / (1 + np.exp(z))\n",
    "    return predict\n",
    "\n",
    "#i\n",
    "def lr_se_linear(x, y, w, niu, max_epochs = 1000):\n",
    "    num_epochs = 0\n",
    "    errors = []\n",
    "\n",
    "    while(True):\n",
    "        if(num_epochs >= max_epochs): break\n",
    "            \n",
    "        num_epochs += 1\n",
    "        changed = False\n",
    "        err_cum = 0\n",
    "        \n",
    "        for i in range(len(x)):\n",
    "            dp = np.insert(x[i], 0, 1, axis=0) # Data Point (add bias)\n",
    "            \n",
    "            # 1. Compute output - activation function\n",
    "            o = linear_activation(dp, w)\n",
    "\n",
    "            # 2. Compute error: niu (y - o) * x\n",
    "            delta = (y[i] - o)\n",
    "            err_cum += abs(delta * delta)\n",
    "            \n",
    "            if(abs(delta) < 1e-5): continue\n",
    "\n",
    "            # 3. Update weights\n",
    "            w = w + np.reshape((niu * delta * dp), w.shape)\n",
    "            \n",
    "            #print(\"   w: \",w)\n",
    "            \n",
    "            changed = True\n",
    "            \n",
    "        errors.append(err_cum)\n",
    "        \n",
    "        if(not changed): break\n",
    "            \n",
    "    return (w, num_epochs, errors)\n",
    "\n",
    "#ii\n",
    "def lr_se_sigmoid(x, y, w, niu, max_epochs = 1000):\n",
    "    num_epochs = 0\n",
    "    errors = []\n",
    "\n",
    "    while(True):\n",
    "        if(num_epochs >= max_epochs): break\n",
    "            \n",
    "        num_epochs += 1\n",
    "        changed = False\n",
    "        err_cum = 0\n",
    "        \n",
    "        for i in range(len(x)):\n",
    "            dp = np.insert(x[i], 0, 1, axis=0) # Data Point (add bias)\n",
    "            \n",
    "            # 1. Compute output - activation function\n",
    "            o = sigmoid_activation(dp, w)\n",
    "            \n",
    "            # 2. Compute error (LEC6 - Slides 34)\n",
    "            net = linear_activation(dp, w)\n",
    "            delta = (y[i] - o) * sigmoid(net) * (1 - sigmoid(net))\n",
    "            err_cum += abs((y[i] - o) * (y[i] - o)) # uwu\n",
    "            # kick melo\n",
    "            \n",
    "            if(abs(delta) < 1e-5): continue\n",
    "\n",
    "            # 3. Update weights\n",
    "            w = w + np.reshape((niu * delta * dp), w.shape)\n",
    "                        \n",
    "            changed = True\n",
    "            \n",
    "        errors.append(err_cum)\n",
    "        \n",
    "        if(not changed): break\n",
    "            \n",
    "    return (w, num_epochs, errors)\n",
    "\n",
    "#iii\n",
    "def lr_ce_sigmoid(x, y, w, niu, max_epochs = 1000):\n",
    "    num_epochs = 0\n",
    "    errors = []\n",
    "\n",
    "    while(True):\n",
    "        if(num_epochs >= max_epochs): break\n",
    "            \n",
    "        num_epochs += 1\n",
    "        changed = False\n",
    "        err_cum = 0\n",
    "        \n",
    "        for i in range(len(x)):\n",
    "            dp = np.insert(x[i], 0, 1, axis=0) # Data Point (add bias)\n",
    "            \n",
    "            # 1. Compute output - activation function\n",
    "            o = sigmoid_activation(dp, w)\n",
    "\n",
    "            # 2. Compute error: niu (y - o) * x\n",
    "            delta = (y[i] - o)\n",
    "            #err_cum += abs(delta)\n",
    "            if y[i] == 1:\n",
    "              err_cum += -np.log(o)\n",
    "            else:\n",
    "              err_cum += -np.log(1 - o)\n",
    "            \n",
    "            if(abs(delta) < 1e-5): continue\n",
    "\n",
    "            # 3. Update weights\n",
    "            w = w + np.reshape((niu * delta * dp), w.shape)\n",
    "            \n",
    "            #print(\"   w: \",w)\n",
    "            \n",
    "            changed = True\n",
    "            \n",
    "        errors.append(err_cum)\n",
    "        \n",
    "        if(not changed): break\n",
    "            \n",
    "    return (w, num_epochs, errors)"
   ]
  },
  {
   "cell_type": "code",
   "execution_count": 119,
   "metadata": {},
   "outputs": [
    {
     "name": "stdout",
     "output_type": "stream",
     "text": [
      "[[-1.78470584]\n",
      " [ 0.38405506]\n",
      " [-0.02796153]]\n",
      "1000\n",
      "[[-4.29922589]\n",
      " [ 1.41704877]\n",
      " [-1.57515378]]\n",
      "1000\n",
      "[[-11.27470656]\n",
      " [  2.3542904 ]\n",
      " [ -1.3471341 ]]\n",
      "1000\n"
     ]
    },
    {
     "data": {
      "text/plain": [
       "<matplotlib.legend.Legend at 0x1b15af711c0>"
      ]
     },
     "execution_count": 119,
     "metadata": {},
     "output_type": "execute_result"
    },
    {
     "data": {
      "image/png": "[encoded data removed]",
      "text/plain": [
       "<Figure size 432x288 with 1 Axes>"
      ]
     },
     "metadata": {
      "needs_background": "light"
     },
     "output_type": "display_data"
    }
   ],
   "source": [
    "## i.\n",
    "result = lr_se_linear(X_train, y_train, np.array([[0, 0, 0]]).T, 0.01)\n",
    "\n",
    "print(result[0])\n",
    "print(result[1])\n",
    "\n",
    "plt.plot(result[2], label=\"SE+Lin\")\n",
    "\n",
    "\n",
    "## ii.\n",
    "result = lr_se_sigmoid(X_train, y_train, np.array([[0, 0, 0]]).T, 0.01)\n",
    "\n",
    "print(result[0])\n",
    "print(result[1])\n",
    "\n",
    "plt.plot(result[2], label=\"SE+Sig\")\n",
    "\n",
    "\n",
    "## iii.\n",
    "result = lr_ce_sigmoid(X_train, y_train, np.array([[0, 0, 0]]).T, 0.01)\n",
    "\n",
    "print(result[0])\n",
    "print(result[1])\n",
    "\n",
    "plt.plot(result[2], label=\"CE+Sig\")\n",
    "\n",
    "plt.xlabel(\"# Epoch\")\n",
    "plt.ylabel(\"Cummulative Error\")\n",
    "plt.legend()"
   ]
  },
  {
   "cell_type": "markdown",
   "metadata": {},
   "source": [
    "### b) Random weight initializations experiments"
   ]
  },
  {
   "cell_type": "code",
   "execution_count": 120,
   "metadata": {
    "scrolled": false
   },
   "outputs": [
    {
     "name": "stdout",
     "output_type": "stream",
     "text": [
      "Squared Error + Linear Activation\n",
      "Experiment  0\n",
      "Initial Weights: \n",
      " [[0.22497763]\n",
      " [0.79329793]\n",
      " [0.22053028]]\n",
      "Final Weights: \n",
      " [[-1.78470507]\n",
      " [ 0.38405501]\n",
      " [-0.02796167]]\n",
      "1000\n",
      "\n"
     ]
    },
    {
     "name": "stderr",
     "output_type": "stream",
     "text": [
      "<ipython-input-120-5dccb52e0f66>:21: MatplotlibDeprecationWarning: Adding an axes using the same arguments as a previous axes currently reuses the earlier instance.  In a future version, a new instance will always be created and returned.  Meanwhile, this warning can be suppressed, and the future behavior ensured, by passing a unique label to each axes instance.\n",
      "  plt.subplot(1, 2, 1)\n"
     ]
    },
    {
     "name": "stdout",
     "output_type": "stream",
     "text": [
      "Experiment  1\n",
      "Initial Weights: \n",
      " [[0.83710927]\n",
      " [0.40580165]\n",
      " [0.63724314]]\n",
      "Final Weights: \n",
      " [[-1.78470149]\n",
      " [ 0.38405478]\n",
      " [-0.02796232]]\n",
      "1000\n",
      "\n"
     ]
    },
    {
     "name": "stderr",
     "output_type": "stream",
     "text": [
      "<ipython-input-120-5dccb52e0f66>:21: MatplotlibDeprecationWarning: Adding an axes using the same arguments as a previous axes currently reuses the earlier instance.  In a future version, a new instance will always be created and returned.  Meanwhile, this warning can be suppressed, and the future behavior ensured, by passing a unique label to each axes instance.\n",
      "  plt.subplot(1, 2, 1)\n",
      "<ipython-input-120-5dccb52e0f66>:30: MatplotlibDeprecationWarning: Adding an axes using the same arguments as a previous axes currently reuses the earlier instance.  In a future version, a new instance will always be created and returned.  Meanwhile, this warning can be suppressed, and the future behavior ensured, by passing a unique label to each axes instance.\n",
      "  plt.subplot(1, 2, 2)\n"
     ]
    },
    {
     "name": "stdout",
     "output_type": "stream",
     "text": [
      "Experiment  2\n",
      "Initial Weights: \n",
      " [[0.11812915]\n",
      " [0.14073902]\n",
      " [0.33952316]]\n",
      "Final Weights: \n",
      " [[-1.78470552]\n",
      " [ 0.38405504]\n",
      " [-0.02796159]]\n",
      "1000\n",
      "\n"
     ]
    },
    {
     "name": "stderr",
     "output_type": "stream",
     "text": [
      "<ipython-input-120-5dccb52e0f66>:21: MatplotlibDeprecationWarning: Adding an axes using the same arguments as a previous axes currently reuses the earlier instance.  In a future version, a new instance will always be created and returned.  Meanwhile, this warning can be suppressed, and the future behavior ensured, by passing a unique label to each axes instance.\n",
      "  plt.subplot(1, 2, 1)\n",
      "<ipython-input-120-5dccb52e0f66>:30: MatplotlibDeprecationWarning: Adding an axes using the same arguments as a previous axes currently reuses the earlier instance.  In a future version, a new instance will always be created and returned.  Meanwhile, this warning can be suppressed, and the future behavior ensured, by passing a unique label to each axes instance.\n",
      "  plt.subplot(1, 2, 2)\n"
     ]
    },
    {
     "data": {
      "image/png": "[encoded data removed]",
      "text/plain": [
       "<Figure size 1080x360 with 2 Axes>"
      ]
     },
     "metadata": {
      "needs_background": "light"
     },
     "output_type": "display_data"
    }
   ],
   "source": [
    "lr = 0.01\n",
    "\n",
    "plt.subplots(figsize=(15, 5))\n",
    "plt.subplot(1, 2, 1)\n",
    "plt.scatter(X_test[:,0], X_test[:,1], c=y_test)\n",
    "\n",
    "\n",
    "## i.\n",
    "print(\"Squared Error + Linear Activation\")\n",
    "for i in range(3):\n",
    "    weights = np.random.rand(3,1)\n",
    "    #print(weights)\n",
    "    \n",
    "    result = lr_se_linear(X_train, y_train, weights, lr, 1000)\n",
    "    print(\"Experiment \", i)\n",
    "    print(\"Initial Weights: \\n\", weights)\n",
    "    print(\"Final Weights: \\n\", result[0])\n",
    "    print(result[1])\n",
    "    \n",
    "    print(\"\")\n",
    "    plt.subplot(1, 2, 1)\n",
    "    domain = np.linspace(3,8,100)\n",
    "    line = -(result[0][0] * 1 + result[0][1] * domain) / result[0][2]\n",
    "\n",
    "    plt.plot(domain,line, label=(\"Exp #\" + str(i)))\n",
    "    plt.xlabel(\"Sepal Length\")\n",
    "    plt.ylabel(\"Sepal Width\")\n",
    "    plt.legend()\n",
    "\n",
    "    plt.subplot(1, 2, 2)\n",
    "    \n",
    "    plt.plot(result[2], label=(\"Exp #\" + str(i)))\n",
    "    plt.xlabel(\"# Epoch\")\n",
    "    plt.ylabel(\"Cummulative Error\")\n",
    "    plt.legend()\n",
    "    \n",
    "    plt.savefig('i.png')"
   ]
  },
  {
   "cell_type": "code",
   "execution_count": 121,
   "metadata": {},
   "outputs": [
    {
     "name": "stdout",
     "output_type": "stream",
     "text": [
      "Squared Error + Sigmoid Activation\n",
      "Experiment  0\n",
      "Initial Weights: \n",
      " [[0.18217546]\n",
      " [0.92500823]\n",
      " [0.95745819]]\n",
      "Final Weights: \n",
      " [[-4.01775436]\n",
      " [ 1.39401065]\n",
      " [-1.6211452 ]]\n",
      "1000\n",
      "\n"
     ]
    },
    {
     "name": "stderr",
     "output_type": "stream",
     "text": [
      "<ipython-input-121-88496b916d3f>:22: MatplotlibDeprecationWarning: Adding an axes using the same arguments as a previous axes currently reuses the earlier instance.  In a future version, a new instance will always be created and returned.  Meanwhile, this warning can be suppressed, and the future behavior ensured, by passing a unique label to each axes instance.\n",
      "  plt.subplot(1, 2, 1)\n"
     ]
    },
    {
     "name": "stdout",
     "output_type": "stream",
     "text": [
      "Experiment  1\n",
      "Initial Weights: \n",
      " [[0.29158551]\n",
      " [0.82099244]\n",
      " [0.02354396]]\n",
      "Final Weights: \n",
      " [[-4.1532326 ]\n",
      " [ 1.40585991]\n",
      " [-1.60056718]]\n",
      "1000\n",
      "\n"
     ]
    },
    {
     "name": "stderr",
     "output_type": "stream",
     "text": [
      "<ipython-input-121-88496b916d3f>:22: MatplotlibDeprecationWarning: Adding an axes using the same arguments as a previous axes currently reuses the earlier instance.  In a future version, a new instance will always be created and returned.  Meanwhile, this warning can be suppressed, and the future behavior ensured, by passing a unique label to each axes instance.\n",
      "  plt.subplot(1, 2, 1)\n",
      "<ipython-input-121-88496b916d3f>:31: MatplotlibDeprecationWarning: Adding an axes using the same arguments as a previous axes currently reuses the earlier instance.  In a future version, a new instance will always be created and returned.  Meanwhile, this warning can be suppressed, and the future behavior ensured, by passing a unique label to each axes instance.\n",
      "  plt.subplot(1, 2, 2)\n"
     ]
    },
    {
     "name": "stdout",
     "output_type": "stream",
     "text": [
      "Experiment  2\n",
      "Initial Weights: \n",
      " [[0.67127447]\n",
      " [0.53091007]\n",
      " [0.14591225]]\n",
      "Final Weights: \n",
      " [[-3.93175387]\n",
      " [ 1.38925167]\n",
      " [-1.63984033]]\n",
      "1000\n",
      "\n"
     ]
    },
    {
     "name": "stderr",
     "output_type": "stream",
     "text": [
      "<ipython-input-121-88496b916d3f>:22: MatplotlibDeprecationWarning: Adding an axes using the same arguments as a previous axes currently reuses the earlier instance.  In a future version, a new instance will always be created and returned.  Meanwhile, this warning can be suppressed, and the future behavior ensured, by passing a unique label to each axes instance.\n",
      "  plt.subplot(1, 2, 1)\n",
      "<ipython-input-121-88496b916d3f>:31: MatplotlibDeprecationWarning: Adding an axes using the same arguments as a previous axes currently reuses the earlier instance.  In a future version, a new instance will always be created and returned.  Meanwhile, this warning can be suppressed, and the future behavior ensured, by passing a unique label to each axes instance.\n",
      "  plt.subplot(1, 2, 2)\n"
     ]
    },
    {
     "data": {
      "image/png": "[encoded data removed]",
      "text/plain": [
       "<Figure size 1080x360 with 2 Axes>"
      ]
     },
     "metadata": {
      "needs_background": "light"
     },
     "output_type": "display_data"
    }
   ],
   "source": [
    "lr = 0.01\n",
    "\n",
    "plt.subplots(figsize=(15, 5))\n",
    "plt.subplot(1, 2, 1)\n",
    "plt.scatter(X_test[:,0], X_test[:,1], c=y_test)\n",
    "\n",
    "\n",
    "## ii.\n",
    "print(\"Squared Error + Sigmoid Activation\")\n",
    "for i in range(3):\n",
    "    weights = np.random.rand(3,1)\n",
    "    #print(weights)\n",
    "    \n",
    "    result = lr_se_sigmoid(X_train, y_train, weights, lr, 1000)\n",
    "    print(\"Experiment \", i)\n",
    "    print(\"Initial Weights: \\n\", weights)\n",
    "    print(\"Final Weights: \\n\", result[0])\n",
    "    print(result[1])\n",
    "    \n",
    "    print(\"\")\n",
    "    \n",
    "    plt.subplot(1, 2, 1)\n",
    "    domain = np.linspace(3,8,100)\n",
    "    line = -(result[0][0] * 1 + result[0][1] * domain) / result[0][2]\n",
    "\n",
    "    plt.plot(domain,line, label=(\"Exp #\" + str(i)))\n",
    "    plt.xlabel(\"Sepal Length\")\n",
    "    plt.ylabel(\"Sepal Width\")\n",
    "    plt.legend()\n",
    "    \n",
    "    plt.subplot(1, 2, 2)\n",
    "    \n",
    "    plt.plot(result[2], label=(\"Exp #\" + str(i)))\n",
    "    plt.xlabel(\"# Epoch\")\n",
    "    plt.ylabel(\"Cummulative Error\")\n",
    "    plt.legend()\n",
    "    \n",
    "    plt.savefig('ii.png')"
   ]
  },
  {
   "cell_type": "code",
   "execution_count": 122,
   "metadata": {},
   "outputs": [
    {
     "name": "stdout",
     "output_type": "stream",
     "text": [
      "Cross-Entropy Error + Sigmoid Activation\n",
      "Experiment  0\n",
      "Initial Weights: \n",
      " [[0.61873235]\n",
      " [0.15874455]\n",
      " [0.35191097]]\n",
      "Final Weights: \n",
      " [[-11.16839044]\n",
      " [  2.34312898]\n",
      " [ -1.35932648]]\n",
      "1000\n",
      "\n"
     ]
    },
    {
     "name": "stderr",
     "output_type": "stream",
     "text": [
      "<ipython-input-122-33621616fcad>:22: MatplotlibDeprecationWarning: Adding an axes using the same arguments as a previous axes currently reuses the earlier instance.  In a future version, a new instance will always be created and returned.  Meanwhile, this warning can be suppressed, and the future behavior ensured, by passing a unique label to each axes instance.\n",
      "  plt.subplot(1, 2, 1)\n"
     ]
    },
    {
     "name": "stdout",
     "output_type": "stream",
     "text": [
      "Experiment  1\n",
      "Initial Weights: \n",
      " [[0.03716076]\n",
      " [0.86876818]\n",
      " [0.93200273]]\n",
      "Final Weights: \n",
      " [[-11.31336196]\n",
      " [  2.35835702]\n",
      " [ -1.34271563]]\n",
      "1000\n",
      "\n"
     ]
    },
    {
     "name": "stderr",
     "output_type": "stream",
     "text": [
      "<ipython-input-122-33621616fcad>:22: MatplotlibDeprecationWarning: Adding an axes using the same arguments as a previous axes currently reuses the earlier instance.  In a future version, a new instance will always be created and returned.  Meanwhile, this warning can be suppressed, and the future behavior ensured, by passing a unique label to each axes instance.\n",
      "  plt.subplot(1, 2, 1)\n",
      "<ipython-input-122-33621616fcad>:32: MatplotlibDeprecationWarning: Adding an axes using the same arguments as a previous axes currently reuses the earlier instance.  In a future version, a new instance will always be created and returned.  Meanwhile, this warning can be suppressed, and the future behavior ensured, by passing a unique label to each axes instance.\n",
      "  plt.subplot(1, 2, 2)\n"
     ]
    },
    {
     "name": "stdout",
     "output_type": "stream",
     "text": [
      "Experiment  2\n",
      "Initial Weights: \n",
      " [[0.29774184]\n",
      " [0.97644512]\n",
      " [0.00686888]]\n",
      "Final Weights: \n",
      " [[-11.23182218]\n",
      " [  2.34978415]\n",
      " [ -1.35204502]]\n",
      "1000\n",
      "\n"
     ]
    },
    {
     "name": "stderr",
     "output_type": "stream",
     "text": [
      "<ipython-input-122-33621616fcad>:22: MatplotlibDeprecationWarning: Adding an axes using the same arguments as a previous axes currently reuses the earlier instance.  In a future version, a new instance will always be created and returned.  Meanwhile, this warning can be suppressed, and the future behavior ensured, by passing a unique label to each axes instance.\n",
      "  plt.subplot(1, 2, 1)\n",
      "<ipython-input-122-33621616fcad>:32: MatplotlibDeprecationWarning: Adding an axes using the same arguments as a previous axes currently reuses the earlier instance.  In a future version, a new instance will always be created and returned.  Meanwhile, this warning can be suppressed, and the future behavior ensured, by passing a unique label to each axes instance.\n",
      "  plt.subplot(1, 2, 2)\n"
     ]
    },
    {
     "data": {
      "image/png": "[encoded data removed]",
      "text/plain": [
       "<Figure size 1080x360 with 2 Axes>"
      ]
     },
     "metadata": {
      "needs_background": "light"
     },
     "output_type": "display_data"
    }
   ],
   "source": [
    "lr = 0.01\n",
    "\n",
    "plt.subplots(figsize=(15, 5))\n",
    "plt.subplot(1, 2, 1)\n",
    "plt.scatter(X_test[:,0], X_test[:,1], c=y_test)\n",
    "\n",
    "\n",
    "## iii.\n",
    "print(\"Cross-Entropy Error + Sigmoid Activation\")\n",
    "for i in range(3):\n",
    "    weights = np.random.rand(3,1)\n",
    "    #print(weights)\n",
    "    \n",
    "    result = lr_ce_sigmoid(X_train, y_train, weights, lr, 1000)\n",
    "    print(\"Experiment \", i)\n",
    "    print(\"Initial Weights: \\n\", weights)\n",
    "    print(\"Final Weights: \\n\", result[0])\n",
    "    print(result[1])\n",
    "    \n",
    "    print(\"\")\n",
    "    \n",
    "    plt.subplot(1, 2, 1)\n",
    "    domain = np.linspace(3,8,100)\n",
    "    line = -(result[0][0] * 1 + result[0][1] * domain) / result[0][2]\n",
    "\n",
    "    plt.plot(domain,line, label=(\"Exp #\" + str(i)))\n",
    "\n",
    "    plt.xlabel(\"Sepal Length\")\n",
    "    plt.ylabel(\"Sepal Width\")\n",
    "    plt.legend()\n",
    "\n",
    "    plt.subplot(1, 2, 2)\n",
    "    \n",
    "    plt.plot(result[2], label=(\"Exp #\" + str(i)))\n",
    "    plt.xlabel(\"# Epoch\")\n",
    "    plt.ylabel(\"Cummulative Error\")\n",
    "    plt.legend()\n",
    "    \n",
    "    plt.savefig('iii.png')"
   ]
  },
  {
   "cell_type": "markdown",
   "metadata": {},
   "source": [
    "### c) Which model converges faster?"
   ]
  },
  {
   "cell_type": "markdown",
   "metadata": {},
   "source": [
    "By looking at the error function line charts, we can easily assess the convergence of each model. Right away we notice that Squared Errors + Linear Activation seems to converge the fastest, suggested by the straight line. However, this is not necessarily a good thing, as the model is still yielding an error of about 35. This is far from optimal.\n",
    "\n",
    "On the other hand, the third model (Cross-Entropy + Sigmoid) seems to have not converge yet, as the slope is far from neutral. This model still has some potential but does not suggest that its performance should increase much more.\n",
    "\n",
    "Lastly, the second model (Squared Error + Sigmoid) seems to be the one that yields the best results: despite the initial spike, the model seems to converge with an error of less than 10, which, compared with its peers, is easily the best."
   ]
  },
  {
   "cell_type": "code",
   "execution_count": 123,
   "metadata": {
    "scrolled": false
   },
   "outputs": [
    {
     "name": "stdout",
     "output_type": "stream",
     "text": [
      "Squared Error + Linear Activation\n",
      "Experiment  0\n",
      "Learning Rate: \n",
      " 0.01\n",
      "Final Weights: \n",
      " [[-1.78470115]\n",
      " [ 0.38405476]\n",
      " [-0.02796238]]\n",
      "1000\n",
      "\n"
     ]
    },
    {
     "name": "stderr",
     "output_type": "stream",
     "text": [
      "<ipython-input-123-80e22f21a3c8>:22: MatplotlibDeprecationWarning: Adding an axes using the same arguments as a previous axes currently reuses the earlier instance.  In a future version, a new instance will always be created and returned.  Meanwhile, this warning can be suppressed, and the future behavior ensured, by passing a unique label to each axes instance.\n",
      "  plt.subplot(1, 2, 1)\n"
     ]
    },
    {
     "name": "stdout",
     "output_type": "stream",
     "text": [
      "Experiment  1\n",
      "Learning Rate: \n",
      " 0.001\n",
      "Final Weights: \n",
      " [[-0.89862772]\n",
      " [ 0.31734403]\n",
      " [-0.21508786]]\n",
      "1000\n",
      "\n"
     ]
    },
    {
     "name": "stderr",
     "output_type": "stream",
     "text": [
      "<ipython-input-123-80e22f21a3c8>:22: MatplotlibDeprecationWarning: Adding an axes using the same arguments as a previous axes currently reuses the earlier instance.  In a future version, a new instance will always be created and returned.  Meanwhile, this warning can be suppressed, and the future behavior ensured, by passing a unique label to each axes instance.\n",
      "  plt.subplot(1, 2, 1)\n",
      "<ipython-input-123-80e22f21a3c8>:31: MatplotlibDeprecationWarning: Adding an axes using the same arguments as a previous axes currently reuses the earlier instance.  In a future version, a new instance will always be created and returned.  Meanwhile, this warning can be suppressed, and the future behavior ensured, by passing a unique label to each axes instance.\n",
      "  plt.subplot(1, 2, 2)\n"
     ]
    },
    {
     "name": "stdout",
     "output_type": "stream",
     "text": [
      "Experiment  2\n",
      "Learning Rate: \n",
      " 0.0001\n",
      "Final Weights: \n",
      " [[ 0.44588284]\n",
      " [ 0.20551011]\n",
      " [-0.41714113]]\n",
      "1000\n",
      "\n"
     ]
    },
    {
     "name": "stderr",
     "output_type": "stream",
     "text": [
      "<ipython-input-123-80e22f21a3c8>:22: MatplotlibDeprecationWarning: Adding an axes using the same arguments as a previous axes currently reuses the earlier instance.  In a future version, a new instance will always be created and returned.  Meanwhile, this warning can be suppressed, and the future behavior ensured, by passing a unique label to each axes instance.\n",
      "  plt.subplot(1, 2, 1)\n",
      "<ipython-input-123-80e22f21a3c8>:31: MatplotlibDeprecationWarning: Adding an axes using the same arguments as a previous axes currently reuses the earlier instance.  In a future version, a new instance will always be created and returned.  Meanwhile, this warning can be suppressed, and the future behavior ensured, by passing a unique label to each axes instance.\n",
      "  plt.subplot(1, 2, 2)\n"
     ]
    },
    {
     "data": {
      "image/png": "[encoded data removed]",
      "text/plain": [
       "<Figure size 1080x360 with 2 Axes>"
      ]
     },
     "metadata": {
      "needs_background": "light"
     },
     "output_type": "display_data"
    }
   ],
   "source": [
    "lr_vals = [0.01, 0.001, 0.0001]\n",
    "\n",
    "plt.subplots(figsize=(15, 5))\n",
    "plt.subplot(1, 2, 1)\n",
    "plt.scatter(X_test[:,0], X_test[:,1], c=y_test)\n",
    "\n",
    "\n",
    "## i.\n",
    "print(\"Squared Error + Linear Activation\")\n",
    "for i in range(3):\n",
    "    weights = np.array([[1, 1, 1]]).T\n",
    "    lr = lr_vals[i]\n",
    "    #print(weights)\n",
    "    \n",
    "    result = lr_se_linear(X_train, y_train, weights, lr, 1000)\n",
    "    print(\"Experiment \", i)\n",
    "    print(\"Learning Rate: \\n\", lr)\n",
    "    print(\"Final Weights: \\n\", result[0])\n",
    "    print(result[1])\n",
    "    \n",
    "    print(\"\")\n",
    "    plt.subplot(1, 2, 1)\n",
    "    domain = np.linspace(3,8,100)\n",
    "    line = -(result[0][0] * 1 + result[0][1] * domain) / result[0][2]\n",
    "\n",
    "    plt.plot(domain,line, label=(\"LR \" + str(lr)))\n",
    "    plt.xlabel(\"Sepal Length\")\n",
    "    plt.ylabel(\"Sepal Width\")\n",
    "    plt.legend()\n",
    "\n",
    "    plt.subplot(1, 2, 2)\n",
    "    \n",
    "    plt.plot(result[2], label=(\"LR \" + str(lr)))\n",
    "    plt.xlabel(\"# Epoch\")\n",
    "    plt.ylabel(\"Cummulative Error\")\n",
    "    plt.legend()\n",
    "    \n",
    "    plt.savefig('i_c.png')"
   ]
  },
  {
   "cell_type": "code",
   "execution_count": 126,
   "metadata": {
    "scrolled": false
   },
   "outputs": [
    {
     "name": "stdout",
     "output_type": "stream",
     "text": [
      "Squared Error + Sigmoid Activation\n",
      "Experiment  0\n",
      "Learning Rate: \n",
      " 0.01\n",
      "Final Weights: \n",
      " [[-2.44991643]\n",
      " [ 1.27519924]\n",
      " [-1.89619217]]\n",
      "1000\n",
      "\n"
     ]
    },
    {
     "name": "stderr",
     "output_type": "stream",
     "text": [
      "<ipython-input-126-7451db204f8c>:22: MatplotlibDeprecationWarning: Adding an axes using the same arguments as a previous axes currently reuses the earlier instance.  In a future version, a new instance will always be created and returned.  Meanwhile, this warning can be suppressed, and the future behavior ensured, by passing a unique label to each axes instance.\n",
      "  plt.subplot(1, 2, 1)\n"
     ]
    },
    {
     "name": "stdout",
     "output_type": "stream",
     "text": [
      "Experiment  1\n",
      "Learning Rate: \n",
      " 0.001\n",
      "Final Weights: \n",
      " [[0.99186459]\n",
      " [0.95813384]\n",
      " [0.97633667]]\n",
      "1000\n",
      "\n"
     ]
    },
    {
     "name": "stderr",
     "output_type": "stream",
     "text": [
      "<ipython-input-126-7451db204f8c>:22: MatplotlibDeprecationWarning: Adding an axes using the same arguments as a previous axes currently reuses the earlier instance.  In a future version, a new instance will always be created and returned.  Meanwhile, this warning can be suppressed, and the future behavior ensured, by passing a unique label to each axes instance.\n",
      "  plt.subplot(1, 2, 1)\n",
      "<ipython-input-126-7451db204f8c>:31: MatplotlibDeprecationWarning: Adding an axes using the same arguments as a previous axes currently reuses the earlier instance.  In a future version, a new instance will always be created and returned.  Meanwhile, this warning can be suppressed, and the future behavior ensured, by passing a unique label to each axes instance.\n",
      "  plt.subplot(1, 2, 2)\n"
     ]
    },
    {
     "name": "stdout",
     "output_type": "stream",
     "text": [
      "Experiment  2\n",
      "Learning Rate: \n",
      " 0.0001\n",
      "Final Weights: \n",
      " [[0.99928542]\n",
      " [0.99632646]\n",
      " [0.99792279]]\n",
      "1000\n",
      "\n"
     ]
    },
    {
     "name": "stderr",
     "output_type": "stream",
     "text": [
      "<ipython-input-126-7451db204f8c>:22: MatplotlibDeprecationWarning: Adding an axes using the same arguments as a previous axes currently reuses the earlier instance.  In a future version, a new instance will always be created and returned.  Meanwhile, this warning can be suppressed, and the future behavior ensured, by passing a unique label to each axes instance.\n",
      "  plt.subplot(1, 2, 1)\n",
      "<ipython-input-126-7451db204f8c>:31: MatplotlibDeprecationWarning: Adding an axes using the same arguments as a previous axes currently reuses the earlier instance.  In a future version, a new instance will always be created and returned.  Meanwhile, this warning can be suppressed, and the future behavior ensured, by passing a unique label to each axes instance.\n",
      "  plt.subplot(1, 2, 2)\n"
     ]
    },
    {
     "data": {
      "image/png": "[encoded data removed]",
      "text/plain": [
       "<Figure size 1080x360 with 2 Axes>"
      ]
     },
     "metadata": {
      "needs_background": "light"
     },
     "output_type": "display_data"
    }
   ],
   "source": [
    "lr_vals = [0.01, 0.001, 0.0001]\n",
    "\n",
    "plt.subplots(figsize=(15, 5))\n",
    "plt.subplot(1, 2, 1)\n",
    "plt.scatter(X_test[:,0], X_test[:,1], c=y_test)\n",
    "\n",
    "\n",
    "## ii.\n",
    "print(\"Squared Error + Sigmoid Activation\")\n",
    "for i in range(3):\n",
    "    weights = np.array([[1, 1, 1]]).T\n",
    "    lr = lr_vals[i]\n",
    "    #print(weights)\n",
    "    \n",
    "    result = lr_se_sigmoid(X_train, y_train, weights, lr, 1000)\n",
    "    print(\"Experiment \", i)\n",
    "    print(\"Learning Rate: \\n\", lr)\n",
    "    print(\"Final Weights: \\n\", result[0])\n",
    "    print(result[1])\n",
    "    \n",
    "    print(\"\")\n",
    "    plt.subplot(1, 2, 1)\n",
    "    domain = np.linspace(3,8,100)\n",
    "    line = -(result[0][0] * 1 + result[0][1] * domain) / result[0][2]\n",
    "\n",
    "    plt.plot(domain,line, label=(\"LR \" + str(lr)))\n",
    "    plt.xlabel(\"Sepal Length\")\n",
    "    plt.ylabel(\"Sepal Width\")\n",
    "    plt.legend()\n",
    "\n",
    "    plt.subplot(1, 2, 2)\n",
    "    \n",
    "    plt.plot(result[2], label=(\"LR \" + str(lr)))\n",
    "    plt.xlabel(\"# Epoch\")\n",
    "    plt.ylabel(\"Cummulative Error\")\n",
    "    plt.legend()\n",
    "    \n",
    "    plt.savefig('ii_c.png')"
   ]
  },
  {
   "cell_type": "code",
   "execution_count": 128,
   "metadata": {
    "scrolled": false
   },
   "outputs": [
    {
     "name": "stdout",
     "output_type": "stream",
     "text": [
      "Cross-Entropy Error + Sigmoid Activation\n",
      "Experiment  0\n",
      "Learning Rate: \n",
      " 0.1\n",
      "Final Weights: \n",
      " [[-26.53885419]\n",
      " [  4.65853652]\n",
      " [ -0.94326417]]\n",
      "1000\n",
      "\n"
     ]
    },
    {
     "name": "stderr",
     "output_type": "stream",
     "text": [
      "<ipython-input-128-2989f12c156b>:22: MatplotlibDeprecationWarning: Adding an axes using the same arguments as a previous axes currently reuses the earlier instance.  In a future version, a new instance will always be created and returned.  Meanwhile, this warning can be suppressed, and the future behavior ensured, by passing a unique label to each axes instance.\n",
      "  plt.subplot(1, 2, 1)\n"
     ]
    },
    {
     "name": "stdout",
     "output_type": "stream",
     "text": [
      "Experiment  1\n",
      "Learning Rate: \n",
      " 0.01\n",
      "Final Weights: \n",
      " [[-11.1298523 ]\n",
      " [  2.33909157]\n",
      " [ -1.36376061]]\n",
      "1000\n",
      "\n"
     ]
    },
    {
     "name": "stderr",
     "output_type": "stream",
     "text": [
      "<ipython-input-128-2989f12c156b>:22: MatplotlibDeprecationWarning: Adding an axes using the same arguments as a previous axes currently reuses the earlier instance.  In a future version, a new instance will always be created and returned.  Meanwhile, this warning can be suppressed, and the future behavior ensured, by passing a unique label to each axes instance.\n",
      "  plt.subplot(1, 2, 1)\n",
      "<ipython-input-128-2989f12c156b>:31: MatplotlibDeprecationWarning: Adding an axes using the same arguments as a previous axes currently reuses the earlier instance.  In a future version, a new instance will always be created and returned.  Meanwhile, this warning can be suppressed, and the future behavior ensured, by passing a unique label to each axes instance.\n",
      "  plt.subplot(1, 2, 2)\n"
     ]
    },
    {
     "name": "stdout",
     "output_type": "stream",
     "text": [
      "Experiment  2\n",
      "Learning Rate: \n",
      " 0.001\n",
      "Final Weights: \n",
      " [[-1.76080424]\n",
      " [ 1.43999874]\n",
      " [-2.48245023]]\n",
      "1000\n",
      "\n"
     ]
    },
    {
     "name": "stderr",
     "output_type": "stream",
     "text": [
      "<ipython-input-128-2989f12c156b>:22: MatplotlibDeprecationWarning: Adding an axes using the same arguments as a previous axes currently reuses the earlier instance.  In a future version, a new instance will always be created and returned.  Meanwhile, this warning can be suppressed, and the future behavior ensured, by passing a unique label to each axes instance.\n",
      "  plt.subplot(1, 2, 1)\n",
      "<ipython-input-128-2989f12c156b>:31: MatplotlibDeprecationWarning: Adding an axes using the same arguments as a previous axes currently reuses the earlier instance.  In a future version, a new instance will always be created and returned.  Meanwhile, this warning can be suppressed, and the future behavior ensured, by passing a unique label to each axes instance.\n",
      "  plt.subplot(1, 2, 2)\n"
     ]
    },
    {
     "data": {
      "image/png": "[encoded data removed]",
      "text/plain": [
       "<Figure size 1080x360 with 2 Axes>"
      ]
     },
     "metadata": {
      "needs_background": "light"
     },
     "output_type": "display_data"
    }
   ],
   "source": [
    "lr_vals = [0.1, 0.01, 0.001]\n",
    "\n",
    "plt.subplots(figsize=(15, 5))\n",
    "plt.subplot(1, 2, 1)\n",
    "plt.scatter(X_test[:,0], X_test[:,1], c=y_test)\n",
    "\n",
    "\n",
    "## ii.\n",
    "print(\"Cross-Entropy Error + Sigmoid Activation\")\n",
    "for i in range(3):\n",
    "    weights = np.array([[1, 1, 1]]).T\n",
    "    lr = lr_vals[i]\n",
    "    #print(weights)\n",
    "    \n",
    "    result = lr_ce_sigmoid(X_train, y_train, weights, lr, 1000)\n",
    "    print(\"Experiment \", i)\n",
    "    print(\"Learning Rate: \\n\", lr)\n",
    "    print(\"Final Weights: \\n\", result[0])\n",
    "    print(result[1])\n",
    "    \n",
    "    print(\"\")\n",
    "    plt.subplot(1, 2, 1)\n",
    "    domain = np.linspace(3,8,100)\n",
    "    line = -(result[0][0] * 1 + result[0][1] * domain) / result[0][2]\n",
    "\n",
    "    plt.plot(domain,line, label=(\"LR \" + str(lr)))\n",
    "    plt.xlabel(\"Sepal Length\")\n",
    "    plt.ylabel(\"Sepal Width\")\n",
    "    plt.legend()\n",
    "\n",
    "    plt.subplot(1, 2, 2)\n",
    "    \n",
    "    plt.plot(result[2], label=(\"LR \" + str(lr)))\n",
    "    plt.xlabel(\"# Epoch\")\n",
    "    plt.ylabel(\"Cummulative Error\")\n",
    "    plt.legend()\n",
    "    \n",
    "    plt.savefig('iii_c.png')"
   ]
  },
  {
   "cell_type": "markdown",
   "metadata": {},
   "source": [
    "<br>\n",
    "<br>"
   ]
  },
  {
   "cell_type": "markdown",
   "metadata": {},
   "source": [
    "### d)"
   ]
  },
  {
   "cell_type": "code",
   "execution_count": 129,
   "metadata": {},
   "outputs": [],
   "source": [
    "def accuracy(real, prediction):\n",
    "    #Accuracy = (TP+TN) / (TP+TN+FP+FN) ; Alternatively: #Equal values / #Size of arrays\n",
    "    return np.sum(real == prediction) / len(real)"
   ]
  },
  {
   "cell_type": "code",
   "execution_count": 130,
   "metadata": {},
   "outputs": [
    {
     "name": "stdout",
     "output_type": "stream",
     "text": [
      "Squared Error + Linear Activation\n",
      "Predict (train): [1.0, 0.0, 0.0, 0.0, 1.0, 0.0, 0.0, 0.0, 0.0, 0.0, 1.0, 0.0, 1.0, 0.0, 0.0, 0.0, 1.0, 1.0, 0.0, 1.0, 0.0, 1.0, 1.0, 0.0, 1.0, 1.0, 0.0, 1.0, 1.0, 1.0, 0.0, 0.0, 0.0, 0.0, 0.0, 0.0, 0.0, 1.0, 0.0, 0.0, 1.0, 0.0, 0.0, 0.0, 1.0, 0.0, 0.0, 0.0, 0.0, 1.0, 1.0, 0.0, 0.0, 1.0, 1.0, 1.0, 1.0, 0.0, 0.0, 1.0, 1.0, 0.0, 1.0, 0.0, 0.0, 1.0, 0.0, 0.0, 1.0, 0.0, 0.0, 0.0, 0.0, 1.0, 1.0, 0.0, 0.0, 0.0, 0.0, 1.0, 0.0, 0.0, 1.0, 0.0, 1.0, 0.0, 1.0, 1.0, 0.0, 0.0, 0.0, 1.0, 0.0, 0.0, 1.0, 0.0, 1.0, 0.0, 0.0, 0.0, 1.0, 1.0, 1.0, 1.0, 0.0, 0.0, 1.0, 0.0, 0.0, 1.0, 0.0, 0.0, 1.0, 0.0, 0.0, 0.0, 1.0, 0.0, 1.0, 0.0]\n",
      "Actual (train): [1 0 0 1 1 0 0 0 0 0 1 0 1 0 0 0 1 1 1 1 0 1 0 0 1 1 1 1 0 1 0 0 1 0 0 0 0\n",
      " 1 0 0 1 0 0 0 0 0 1 0 0 0 1 0 0 1 1 1 1 0 0 1 1 0 1 0 1 1 0 0 1 0 0 0 0 1\n",
      " 1 0 0 0 0 0 0 0 0 0 1 0 1 0 0 1 0 1 0 0 1 0 1 0 0 0 1 1 0 0 0 0 1 1 0 0 0\n",
      " 0 0 0 0 0 1 0 1 0]\n",
      "\n",
      "Predict (test): [0.0, 0.0, 0.0, 1.0, 0.0, 1.0, 0.0, 1.0, 1.0, 0.0, 0.0, 1.0, 0.0, 1.0, 0.0, 0.0, 0.0, 0.0, 0.0, 0.0, 0.0, 0.0, 0.0, 0.0, 1.0, 0.0, 0.0, 1.0, 0.0, 0.0]\n",
      "Actual (test): [1 0 0 1 0 1 0 0 0 0 1 0 0 0 0 0 0 0 0 0 1 0 0 0 1 0 0 0 0 0]\n",
      "\n",
      "Train Accuracy: 0.8416666666666667\n",
      "Test Accuracy: 0.7333333333333333\n"
     ]
    }
   ],
   "source": [
    "lr = 0.01\n",
    "\n",
    "## i.\n",
    "print(\"Squared Error + Linear Activation\")\n",
    "weights =  np.array([[1, 1, 1]]).T\n",
    "    \n",
    "weights = lr_se_linear(X_train, y_train, weights, lr, 1000)[0]\n",
    "\n",
    "train_predict = []\n",
    "for i in range(len(X_train)):\n",
    "    dp = np.insert(X_train[i], 0, 1, axis=0) # Data Point (add bias)  \n",
    "    o = linear_activation(dp,weights)\n",
    "    # Not sure if we can do this here, but it yields good acc (0.84 / 0.73)\n",
    "    o = 1.0 if o >= 0.5 else 0.0\n",
    "    #o = 1.0 if o >= 0.0 else 0.0\n",
    "    \n",
    "    train_predict.append(o)\n",
    "                    \n",
    "test_predict = []\n",
    "for i in range(len(X_test)):\n",
    "    dp = np.insert(X_test[i], 0, 1, axis=0) # Data Point (add bias)        \n",
    "    o = linear_activation(dp,weights)\n",
    "    # Not sure if we can do this here, but it yields good acc (0.84 / 0.73)\n",
    "    o = 1.0 if o >= 0.5 else 0.0\n",
    "    #o = 1.0 if o >= 0.0 else 0.0\n",
    "    \n",
    "    test_predict.append(o)\n",
    "                    \n",
    "\n",
    "print(\"Predict (train):\", train_predict)\n",
    "print(\"Actual (train):\",y_train)\n",
    "\n",
    "print(\"\")\n",
    "      \n",
    "print(\"Predict (test):\", test_predict)\n",
    "print(\"Actual (test):\",y_test)\n",
    "      \n",
    "print(\"\")\n",
    "        \n",
    "print(\"Train Accuracy:\",accuracy(y_train, train_predict))\n",
    "print(\"Test Accuracy:\",accuracy(y_test, test_predict))"
   ]
  },
  {
   "cell_type": "code",
   "execution_count": 131,
   "metadata": {},
   "outputs": [
    {
     "name": "stdout",
     "output_type": "stream",
     "text": [
      "Squared Error + Sigmoid Activation\n",
      "Predict (train): [0.0, 0.0, 0.0, 0.0, 1.0, 0.0, 0.0, 1.0, 0.0, 1.0, 1.0, 0.0, 1.0, 0.0, 0.0, 1.0, 1.0, 0.0, 1.0, 1.0, 0.0, 1.0, 0.0, 1.0, 1.0, 1.0, 0.0, 1.0, 1.0, 1.0, 0.0, 0.0, 0.0, 0.0, 0.0, 0.0, 0.0, 1.0, 0.0, 0.0, 1.0, 0.0, 0.0, 0.0, 1.0, 0.0, 0.0, 0.0, 0.0, 1.0, 0.0, 0.0, 0.0, 1.0, 1.0, 1.0, 1.0, 0.0, 0.0, 0.0, 0.0, 0.0, 0.0, 0.0, 1.0, 1.0, 0.0, 0.0, 1.0, 0.0, 0.0, 0.0, 1.0, 1.0, 1.0, 0.0, 0.0, 0.0, 0.0, 1.0, 0.0, 0.0, 1.0, 0.0, 1.0, 0.0, 1.0, 1.0, 0.0, 0.0, 0.0, 1.0, 0.0, 0.0, 1.0, 0.0, 0.0, 0.0, 0.0, 0.0, 0.0, 1.0, 1.0, 1.0, 0.0, 1.0, 1.0, 0.0, 0.0, 1.0, 0.0, 0.0, 1.0, 0.0, 0.0, 0.0, 1.0, 0.0, 1.0, 0.0]\n",
      "Actual (train): [1 0 0 1 1 0 0 0 0 0 1 0 1 0 0 0 1 1 1 1 0 1 0 0 1 1 1 1 0 1 0 0 1 0 0 0 0\n",
      " 1 0 0 1 0 0 0 0 0 1 0 0 0 1 0 0 1 1 1 1 0 0 1 1 0 1 0 1 1 0 0 1 0 0 0 0 1\n",
      " 1 0 0 0 0 0 0 0 0 0 1 0 1 0 0 1 0 1 0 0 1 0 1 0 0 0 1 1 0 0 0 0 1 1 0 0 0\n",
      " 0 0 0 0 0 1 0 1 0]\n",
      "\n",
      "Predict (test): [0.0, 1.0, 0.0, 1.0, 0.0, 0.0, 0.0, 1.0, 1.0, 1.0, 1.0, 0.0, 1.0, 1.0, 0.0, 0.0, 0.0, 0.0, 0.0, 0.0, 0.0, 0.0, 0.0, 0.0, 1.0, 0.0, 0.0, 0.0, 0.0, 0.0]\n",
      "Actual (test): [1 0 0 1 0 1 0 0 0 0 1 0 0 0 0 0 0 0 0 0 1 0 0 0 1 0 0 0 0 0]\n",
      "\n",
      "Train Accuracy: 0.75\n",
      "Test Accuracy: 0.7\n"
     ]
    }
   ],
   "source": [
    "lr = 0.01\n",
    "\n",
    "## ii.\n",
    "print(\"Squared Error + Sigmoid Activation\")\n",
    "weights =  np.array([[1, 1, 1]]).T\n",
    "    \n",
    "weights = lr_se_sigmoid(X_train, y_train, weights, lr, 1000)[0]\n",
    "\n",
    "train_predict = []\n",
    "for i in range(len(X_train)):\n",
    "    dp = np.insert(X_train[i], 0, 1, axis=0) # Data Point (add bias)\n",
    "    o = sigmoid_activation(dp,weights)\n",
    "    o = 1.0 if o >= 0.5 else 0.0\n",
    "    \n",
    "    train_predict.append(o)\n",
    "                    \n",
    "test_predict = []\n",
    "for i in range(len(X_test)):\n",
    "    dp = np.insert(X_test[i], 0, 1, axis=0) # Data Point (add bias)        \n",
    "    o = sigmoid_activation(dp,weights)\n",
    "    o = 1.0 if o >= 0.5 else 0.0\n",
    "    \n",
    "    test_predict.append(o)\n",
    "    \n",
    "print(\"Predict (train):\", train_predict)\n",
    "print(\"Actual (train):\",y_train)\n",
    "\n",
    "print(\"\")\n",
    "      \n",
    "print(\"Predict (test):\", test_predict)\n",
    "print(\"Actual (test):\",y_test)\n",
    "      \n",
    "print(\"\")\n",
    "                    \n",
    "\n",
    "print(\"Train Accuracy:\",accuracy(y_train, train_predict))\n",
    "print(\"Test Accuracy:\",accuracy(y_test, test_predict))"
   ]
  },
  {
   "cell_type": "code",
   "execution_count": null,
   "metadata": {},
   "outputs": [
    {
     "name": "stdout",
     "output_type": "stream",
     "text": [
      "Cross-Entropy Error + Sigmoid Activation\n"
     ]
    }
   ],
   "source": [
    "lr = 0.01\n",
    "\n",
    "## iii.\n",
    "print(\"Cross-Entropy Error + Sigmoid Activation\")\n",
    "weights =  np.array([[1, 1, 1]]).T\n",
    "    \n",
    "weights = lr_ce_sigmoid(X_train, y_train, weights, lr, 1000)[0]\n",
    "\n",
    "train_predict = []\n",
    "for i in range(len(X_train)):\n",
    "    dp = np.insert(X_train[i], 0, 1, axis=0) # Data Point (add bias)  \n",
    "    o = sigmoid_activation(dp,weights)\n",
    "    o = 1.0 if o >= 0.5 else 0.0\n",
    "    \n",
    "    train_predict.append(o)\n",
    "                    \n",
    "test_predict = []\n",
    "for i in range(len(X_test)):\n",
    "    dp = np.insert(X_test[i], 0, 1, axis=0) # Data Point (add bias)        \n",
    "    o = sigmoid_activation(dp,weights)\n",
    "    o = 1.0 if o >= 0.5 else 0.0\n",
    "    \n",
    "    test_predict.append(o)\n",
    "\n",
    "\n",
    "print(\"Predict (train):\", train_predict)\n",
    "print(\"Actual (train):\",y_train)\n",
    "\n",
    "print(\"\")\n",
    "      \n",
    "print(\"Predict (test):\", test_predict)\n",
    "print(\"Actual (test):\",y_test)\n",
    "      \n",
    "print(\"\")\n",
    "\n",
    "print(\"Train Accuracy:\",accuracy(y_train, train_predict))\n",
    "print(\"Test Accuracy:\",accuracy(y_test, test_predict))"
   ]
  },
  {
   "cell_type": "markdown",
   "metadata": {},
   "source": [
    "### e) Do you get the same results as Logistic Regression of Scikit-learn?"
   ]
  },
  {
   "cell_type": "markdown",
   "metadata": {},
   "source": [
    "Although the developed model does not yield the exact same accuracy as the one used in Scikit-learn, the final values are nevertheless comparable, both for the train and test sets. It is worth highlighting that our test accuracy actually surpasses the one obtained using Sci-kit learn whilst having a lower training accuracy, suggesting our LogReg model is less prone to overfitting than the SK-Learn one.\n",
    "\n",
    "As some final remarks, we would like to highlight that the Linear Regression yielded the worse results, as expected, considering we are facing a classification problem, and a linear activation function excels at regression.\n",
    "\n",
    "Surprisingly enough, however, it seems that the model that yields the best results is the Logistic Regression (model 3), contrary to prior belief. This might be due to the fact that different error functions cannot be equally compared. We can objectively compare the first and second models since they are both using Squared Errors, but not model 2 and 3, since we would be comparing two values with different meanings."
   ]
  },
  {
   "cell_type": "code",
   "execution_count": 92,
   "metadata": {},
   "outputs": [
    {
     "name": "stdout",
     "output_type": "stream",
     "text": [
      "<3\n"
     ]
    }
   ],
   "source": [
    "print(\"<3\")"
   ]
  }
 ],
 "metadata": {
  "kernelspec": {
   "display_name": "Python 3",
   "language": "python",
   "name": "python3"
  },
  "language_info": {
   "codemirror_mode": {
    "name": "ipython",
    "version": 3
   },
   "file_extension": ".py",
   "mimetype": "text/x-python",
   "name": "python",
   "nbconvert_exporter": "python",
   "pygments_lexer": "ipython3",
   "version": "3.8.5"
  }
 },
 "nbformat": 4,
 "nbformat_minor": 4
}
